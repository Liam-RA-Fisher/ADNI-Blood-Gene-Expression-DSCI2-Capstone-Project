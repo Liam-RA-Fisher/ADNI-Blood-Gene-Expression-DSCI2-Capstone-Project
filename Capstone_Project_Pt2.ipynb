{
 "cells": [
  {
   "cell_type": "markdown",
   "id": "bdd5e153",
   "metadata": {},
   "source": [
    "# Capstone Project Modelling\n",
    "\n",
    "Liam Fisher\n",
    "\n",
    "3/1/2022\n",
    "\n",
    "### For context and preperation for this portion of the project see:\n",
    "\n",
    "Capstone_Project_Pt1.html, Capstone_Project_Pt1.Rmd"
   ]
  },
  {
   "cell_type": "code",
   "execution_count": 149,
   "id": "c44d1ac0",
   "metadata": {},
   "outputs": [],
   "source": [
    "# Imports\n",
    "import pandas as pd\n",
    "import numpy as np\n",
    "import matplotlib.pyplot as plt\n",
    "from sklearn.preprocessing import StandardScaler\n",
    "from sklearn.decomposition import PCA\n",
    "import math\n",
    "from sklearn.model_selection import train_test_split\n",
    "import tensorflow as tf\n",
    "import kerastuner.tuners as kt\n",
    "from tensorflow.keras import Model\n",
    "from tensorflow.keras import Sequential\n",
    "from tensorflow.keras.layers import Dense, Dropout\n",
    "from tensorflow.keras.losses import MeanSquaredLogarithmicError\n",
    "from sklearn.preprocessing import MinMaxScaler\n",
    "from sklearn.manifold import LocallyLinearEmbedding\n",
    "from scipy.stats import reciprocal\n",
    "from sklearn.model_selection import GridSearchCV\n",
    "from sklearn.ensemble import RandomForestClassifier\n",
    "from sklearn.ensemble import ExtraTreesClassifier\n",
    "from sklearn.svm import SVC\n",
    "from sklearn.ensemble import VotingClassifier\n",
    "from sklearn.metrics import f1_score\n",
    "from sklearn.metrics import confusion_matrix"
   ]
  },
  {
   "cell_type": "code",
   "execution_count": 3,
   "id": "c7389ea9",
   "metadata": {},
   "outputs": [],
   "source": [
    "# Reading Data\n",
    "train = pd.read_csv(\"Data/train_set.csv\") \n",
    "test = pd.read_csv(\"Data/test_set.csv\")"
   ]
  },
  {
   "cell_type": "code",
   "execution_count": 4,
   "id": "b7911976",
   "metadata": {},
   "outputs": [
    {
     "name": "stdout",
     "output_type": "stream",
     "text": [
      "Unnamed: 0              int64\n",
      "RID                     int64\n",
      "baseline_diagnosis     object\n",
      "study_enrolled         object\n",
      "VISCODE2               object\n",
      "11715100_at           float64\n",
      "11715101_s_at         float64\n",
      "11715102_x_at         float64\n",
      "dtype: object\n",
      "Unnamed: 0              int64\n",
      "RID                     int64\n",
      "baseline_diagnosis     object\n",
      "study_enrolled         object\n",
      "VISCODE2               object\n",
      "11715100_at           float64\n",
      "11715101_s_at         float64\n",
      "11715102_x_at         float64\n",
      "dtype: object\n"
     ]
    }
   ],
   "source": [
    "# Checking Data Types\n",
    "print(train.iloc[: , :8].dtypes)\n",
    "print(test.iloc[: , :8].dtypes)"
   ]
  },
  {
   "cell_type": "code",
   "execution_count": 33,
   "id": "1bce3076",
   "metadata": {},
   "outputs": [
    {
     "name": "stdout",
     "output_type": "stream",
     "text": [
      "0       CN\n",
      "1       CN\n",
      "2       CN\n",
      "3       CN\n",
      "4       CN\n",
      "      ... \n",
      "553     CN\n",
      "554    MCI\n",
      "555     AD\n",
      "556    MCI\n",
      "557    MCI\n",
      "Name: baseline_diagnosis, Length: 558, dtype: object\n",
      "0      1\n",
      "1      1\n",
      "2      1\n",
      "3      1\n",
      "4      1\n",
      "      ..\n",
      "553    1\n",
      "554    2\n",
      "555    0\n",
      "556    2\n",
      "557    2\n",
      "Length: 558, dtype: int8\n"
     ]
    }
   ],
   "source": [
    "# Splitting Train and Test Into Features and Target\n",
    "X_train = train.iloc[ : , 5: ]\n",
    "y_train = train[\"baseline_diagnosis\"]\n",
    "X_test = test.iloc[ : , 5: ]\n",
    "y_test = test[\"baseline_diagnosis\"]\n",
    "y_train_num = pd.DataFrame(y_train)[\"baseline_diagnosis\"].astype('category').cat.codes\n",
    "y_test_num = pd.DataFrame(y_test)[\"baseline_diagnosis\"].astype('category').cat.codes\n",
    "print(y_train)\n",
    "print(y_train_num)"
   ]
  },
  {
   "cell_type": "markdown",
   "id": "65ca8f8f",
   "metadata": {},
   "source": [
    "For the numerical encoding of the labels:\n",
    "\n",
    "0 = AD\n",
    "\n",
    "1 = CN\n",
    "\n",
    "2 = MCI"
   ]
  },
  {
   "cell_type": "markdown",
   "id": "23f135bc",
   "metadata": {},
   "source": [
    "# Feature Extraction\n",
    "\n",
    "Due to the fact that the data contains 49390 variables feature extraction will be necassary. The two tequenique that will be implemented are PCA and a Variational Autoencoder."
   ]
  },
  {
   "cell_type": "code",
   "execution_count": 6,
   "id": "7c763e09",
   "metadata": {},
   "outputs": [
    {
     "data": {
      "text/html": [
       "<div>\n",
       "<style scoped>\n",
       "    .dataframe tbody tr th:only-of-type {\n",
       "        vertical-align: middle;\n",
       "    }\n",
       "\n",
       "    .dataframe tbody tr th {\n",
       "        vertical-align: top;\n",
       "    }\n",
       "\n",
       "    .dataframe thead th {\n",
       "        text-align: right;\n",
       "    }\n",
       "</style>\n",
       "<table border=\"1\" class=\"dataframe\">\n",
       "  <thead>\n",
       "    <tr style=\"text-align: right;\">\n",
       "      <th></th>\n",
       "      <th>0</th>\n",
       "      <th>1</th>\n",
       "      <th>2</th>\n",
       "      <th>3</th>\n",
       "      <th>4</th>\n",
       "      <th>5</th>\n",
       "      <th>6</th>\n",
       "      <th>7</th>\n",
       "      <th>8</th>\n",
       "      <th>9</th>\n",
       "      <th>...</th>\n",
       "      <th>49376</th>\n",
       "      <th>49377</th>\n",
       "      <th>49378</th>\n",
       "      <th>49379</th>\n",
       "      <th>49380</th>\n",
       "      <th>49381</th>\n",
       "      <th>49382</th>\n",
       "      <th>49383</th>\n",
       "      <th>49384</th>\n",
       "      <th>49385</th>\n",
       "    </tr>\n",
       "  </thead>\n",
       "  <tbody>\n",
       "    <tr>\n",
       "      <th>0</th>\n",
       "      <td>-0.459237</td>\n",
       "      <td>-0.977341</td>\n",
       "      <td>-1.927645</td>\n",
       "      <td>-1.010870</td>\n",
       "      <td>0.971885</td>\n",
       "      <td>0.621014</td>\n",
       "      <td>-0.331472</td>\n",
       "      <td>-1.400078</td>\n",
       "      <td>-0.460223</td>\n",
       "      <td>0.197260</td>\n",
       "      <td>...</td>\n",
       "      <td>0.511882</td>\n",
       "      <td>0.632463</td>\n",
       "      <td>-2.328265</td>\n",
       "      <td>-1.474224</td>\n",
       "      <td>-0.265241</td>\n",
       "      <td>0.040190</td>\n",
       "      <td>1.321942</td>\n",
       "      <td>0.826098</td>\n",
       "      <td>0.853084</td>\n",
       "      <td>-0.502369</td>\n",
       "    </tr>\n",
       "    <tr>\n",
       "      <th>1</th>\n",
       "      <td>-0.454250</td>\n",
       "      <td>1.338511</td>\n",
       "      <td>-0.667945</td>\n",
       "      <td>1.796182</td>\n",
       "      <td>2.114344</td>\n",
       "      <td>-0.372569</td>\n",
       "      <td>1.240742</td>\n",
       "      <td>2.279812</td>\n",
       "      <td>0.005519</td>\n",
       "      <td>1.680331</td>\n",
       "      <td>...</td>\n",
       "      <td>0.259085</td>\n",
       "      <td>2.542020</td>\n",
       "      <td>-0.289828</td>\n",
       "      <td>0.739156</td>\n",
       "      <td>-0.096633</td>\n",
       "      <td>-0.639389</td>\n",
       "      <td>-0.425508</td>\n",
       "      <td>1.968423</td>\n",
       "      <td>1.559449</td>\n",
       "      <td>2.903585</td>\n",
       "    </tr>\n",
       "    <tr>\n",
       "      <th>2</th>\n",
       "      <td>-0.065299</td>\n",
       "      <td>-0.465182</td>\n",
       "      <td>0.100303</td>\n",
       "      <td>-1.007701</td>\n",
       "      <td>-1.075800</td>\n",
       "      <td>-0.096574</td>\n",
       "      <td>2.350540</td>\n",
       "      <td>-0.640671</td>\n",
       "      <td>1.277619</td>\n",
       "      <td>2.166503</td>\n",
       "      <td>...</td>\n",
       "      <td>0.626789</td>\n",
       "      <td>-0.080813</td>\n",
       "      <td>-1.262718</td>\n",
       "      <td>0.334494</td>\n",
       "      <td>-0.932930</td>\n",
       "      <td>-1.149073</td>\n",
       "      <td>-1.198250</td>\n",
       "      <td>0.611518</td>\n",
       "      <td>0.922185</td>\n",
       "      <td>-1.167982</td>\n",
       "    </tr>\n",
       "    <tr>\n",
       "      <th>3</th>\n",
       "      <td>-0.110178</td>\n",
       "      <td>-0.095536</td>\n",
       "      <td>-2.311769</td>\n",
       "      <td>-0.541972</td>\n",
       "      <td>0.322619</td>\n",
       "      <td>0.027624</td>\n",
       "      <td>-0.264678</td>\n",
       "      <td>-1.682835</td>\n",
       "      <td>-0.578396</td>\n",
       "      <td>-1.438046</td>\n",
       "      <td>...</td>\n",
       "      <td>-0.606553</td>\n",
       "      <td>-0.322316</td>\n",
       "      <td>-1.254997</td>\n",
       "      <td>-1.161531</td>\n",
       "      <td>-1.142005</td>\n",
       "      <td>-0.898702</td>\n",
       "      <td>-0.653818</td>\n",
       "      <td>-0.404583</td>\n",
       "      <td>-1.358146</td>\n",
       "      <td>0.142000</td>\n",
       "    </tr>\n",
       "    <tr>\n",
       "      <th>4</th>\n",
       "      <td>-1.077570</td>\n",
       "      <td>0.318645</td>\n",
       "      <td>-0.667945</td>\n",
       "      <td>-2.420732</td>\n",
       "      <td>-0.632551</td>\n",
       "      <td>-1.800845</td>\n",
       "      <td>-0.660301</td>\n",
       "      <td>-1.387959</td>\n",
       "      <td>0.429552</td>\n",
       "      <td>-0.863479</td>\n",
       "      <td>...</td>\n",
       "      <td>-0.997240</td>\n",
       "      <td>-1.058057</td>\n",
       "      <td>0.034469</td>\n",
       "      <td>-1.345468</td>\n",
       "      <td>-1.445500</td>\n",
       "      <td>0.156434</td>\n",
       "      <td>-0.249885</td>\n",
       "      <td>-0.492940</td>\n",
       "      <td>-2.233424</td>\n",
       "      <td>-0.495288</td>\n",
       "    </tr>\n",
       "    <tr>\n",
       "      <th>...</th>\n",
       "      <td>...</td>\n",
       "      <td>...</td>\n",
       "      <td>...</td>\n",
       "      <td>...</td>\n",
       "      <td>...</td>\n",
       "      <td>...</td>\n",
       "      <td>...</td>\n",
       "      <td>...</td>\n",
       "      <td>...</td>\n",
       "      <td>...</td>\n",
       "      <td>...</td>\n",
       "      <td>...</td>\n",
       "      <td>...</td>\n",
       "      <td>...</td>\n",
       "      <td>...</td>\n",
       "      <td>...</td>\n",
       "      <td>...</td>\n",
       "      <td>...</td>\n",
       "      <td>...</td>\n",
       "      <td>...</td>\n",
       "      <td>...</td>\n",
       "    </tr>\n",
       "    <tr>\n",
       "      <th>553</th>\n",
       "      <td>-2.164639</td>\n",
       "      <td>-0.353843</td>\n",
       "      <td>-0.504127</td>\n",
       "      <td>0.139198</td>\n",
       "      <td>-0.257974</td>\n",
       "      <td>-1.759446</td>\n",
       "      <td>0.208013</td>\n",
       "      <td>-0.664908</td>\n",
       "      <td>0.019421</td>\n",
       "      <td>0.958439</td>\n",
       "      <td>...</td>\n",
       "      <td>0.634450</td>\n",
       "      <td>-0.575051</td>\n",
       "      <td>0.351045</td>\n",
       "      <td>0.659450</td>\n",
       "      <td>-0.575481</td>\n",
       "      <td>-0.505261</td>\n",
       "      <td>0.285765</td>\n",
       "      <td>-1.313394</td>\n",
       "      <td>0.730238</td>\n",
       "      <td>0.163243</td>\n",
       "    </tr>\n",
       "    <tr>\n",
       "      <th>554</th>\n",
       "      <td>1.585251</td>\n",
       "      <td>0.968865</td>\n",
       "      <td>1.732830</td>\n",
       "      <td>0.278600</td>\n",
       "      <td>-0.033229</td>\n",
       "      <td>-0.034475</td>\n",
       "      <td>1.209914</td>\n",
       "      <td>0.845826</td>\n",
       "      <td>1.048224</td>\n",
       "      <td>0.624503</td>\n",
       "      <td>...</td>\n",
       "      <td>0.075232</td>\n",
       "      <td>-0.586284</td>\n",
       "      <td>2.003415</td>\n",
       "      <td>0.346756</td>\n",
       "      <td>3.659963</td>\n",
       "      <td>-1.149073</td>\n",
       "      <td>-0.021575</td>\n",
       "      <td>-1.995002</td>\n",
       "      <td>2.066189</td>\n",
       "      <td>-0.112915</td>\n",
       "    </tr>\n",
       "    <tr>\n",
       "      <th>555</th>\n",
       "      <td>0.174056</td>\n",
       "      <td>-0.246957</td>\n",
       "      <td>0.286716</td>\n",
       "      <td>-1.584319</td>\n",
       "      <td>-0.420291</td>\n",
       "      <td>0.897010</td>\n",
       "      <td>-1.235751</td>\n",
       "      <td>-0.992099</td>\n",
       "      <td>-0.182168</td>\n",
       "      <td>0.511553</td>\n",
       "      <td>...</td>\n",
       "      <td>-0.001373</td>\n",
       "      <td>0.031514</td>\n",
       "      <td>-0.204893</td>\n",
       "      <td>-0.039512</td>\n",
       "      <td>-0.157332</td>\n",
       "      <td>-1.873362</td>\n",
       "      <td>-0.838223</td>\n",
       "      <td>0.056133</td>\n",
       "      <td>0.714882</td>\n",
       "      <td>-0.410316</td>\n",
       "    </tr>\n",
       "    <tr>\n",
       "      <th>556</th>\n",
       "      <td>0.014486</td>\n",
       "      <td>1.102472</td>\n",
       "      <td>0.196334</td>\n",
       "      <td>-1.270665</td>\n",
       "      <td>-0.557636</td>\n",
       "      <td>-1.172955</td>\n",
       "      <td>1.913814</td>\n",
       "      <td>0.595384</td>\n",
       "      <td>1.778118</td>\n",
       "      <td>0.604859</td>\n",
       "      <td>...</td>\n",
       "      <td>-1.717328</td>\n",
       "      <td>-0.288618</td>\n",
       "      <td>2.211891</td>\n",
       "      <td>-1.290287</td>\n",
       "      <td>0.726177</td>\n",
       "      <td>0.558816</td>\n",
       "      <td>-1.013846</td>\n",
       "      <td>-1.395439</td>\n",
       "      <td>-0.367699</td>\n",
       "      <td>-0.693556</td>\n",
       "    </tr>\n",
       "    <tr>\n",
       "      <th>557</th>\n",
       "      <td>1.665036</td>\n",
       "      <td>0.474520</td>\n",
       "      <td>1.913594</td>\n",
       "      <td>-0.491280</td>\n",
       "      <td>-1.038342</td>\n",
       "      <td>0.455417</td>\n",
       "      <td>-1.682753</td>\n",
       "      <td>-0.018604</td>\n",
       "      <td>0.241865</td>\n",
       "      <td>-0.991160</td>\n",
       "      <td>...</td>\n",
       "      <td>0.619129</td>\n",
       "      <td>-0.917648</td>\n",
       "      <td>-0.567796</td>\n",
       "      <td>-1.363862</td>\n",
       "      <td>0.658733</td>\n",
       "      <td>1.658661</td>\n",
       "      <td>1.567814</td>\n",
       "      <td>-0.278359</td>\n",
       "      <td>1.482670</td>\n",
       "      <td>0.595184</td>\n",
       "    </tr>\n",
       "  </tbody>\n",
       "</table>\n",
       "<p>558 rows × 49386 columns</p>\n",
       "</div>"
      ],
      "text/plain": [
       "        0         1         2         3         4         5         6      \\\n",
       "0   -0.459237 -0.977341 -1.927645 -1.010870  0.971885  0.621014 -0.331472   \n",
       "1   -0.454250  1.338511 -0.667945  1.796182  2.114344 -0.372569  1.240742   \n",
       "2   -0.065299 -0.465182  0.100303 -1.007701 -1.075800 -0.096574  2.350540   \n",
       "3   -0.110178 -0.095536 -2.311769 -0.541972  0.322619  0.027624 -0.264678   \n",
       "4   -1.077570  0.318645 -0.667945 -2.420732 -0.632551 -1.800845 -0.660301   \n",
       "..        ...       ...       ...       ...       ...       ...       ...   \n",
       "553 -2.164639 -0.353843 -0.504127  0.139198 -0.257974 -1.759446  0.208013   \n",
       "554  1.585251  0.968865  1.732830  0.278600 -0.033229 -0.034475  1.209914   \n",
       "555  0.174056 -0.246957  0.286716 -1.584319 -0.420291  0.897010 -1.235751   \n",
       "556  0.014486  1.102472  0.196334 -1.270665 -0.557636 -1.172955  1.913814   \n",
       "557  1.665036  0.474520  1.913594 -0.491280 -1.038342  0.455417 -1.682753   \n",
       "\n",
       "        7         8         9      ...     49376     49377     49378  \\\n",
       "0   -1.400078 -0.460223  0.197260  ...  0.511882  0.632463 -2.328265   \n",
       "1    2.279812  0.005519  1.680331  ...  0.259085  2.542020 -0.289828   \n",
       "2   -0.640671  1.277619  2.166503  ...  0.626789 -0.080813 -1.262718   \n",
       "3   -1.682835 -0.578396 -1.438046  ... -0.606553 -0.322316 -1.254997   \n",
       "4   -1.387959  0.429552 -0.863479  ... -0.997240 -1.058057  0.034469   \n",
       "..        ...       ...       ...  ...       ...       ...       ...   \n",
       "553 -0.664908  0.019421  0.958439  ...  0.634450 -0.575051  0.351045   \n",
       "554  0.845826  1.048224  0.624503  ...  0.075232 -0.586284  2.003415   \n",
       "555 -0.992099 -0.182168  0.511553  ... -0.001373  0.031514 -0.204893   \n",
       "556  0.595384  1.778118  0.604859  ... -1.717328 -0.288618  2.211891   \n",
       "557 -0.018604  0.241865 -0.991160  ...  0.619129 -0.917648 -0.567796   \n",
       "\n",
       "        49379     49380     49381     49382     49383     49384     49385  \n",
       "0   -1.474224 -0.265241  0.040190  1.321942  0.826098  0.853084 -0.502369  \n",
       "1    0.739156 -0.096633 -0.639389 -0.425508  1.968423  1.559449  2.903585  \n",
       "2    0.334494 -0.932930 -1.149073 -1.198250  0.611518  0.922185 -1.167982  \n",
       "3   -1.161531 -1.142005 -0.898702 -0.653818 -0.404583 -1.358146  0.142000  \n",
       "4   -1.345468 -1.445500  0.156434 -0.249885 -0.492940 -2.233424 -0.495288  \n",
       "..        ...       ...       ...       ...       ...       ...       ...  \n",
       "553  0.659450 -0.575481 -0.505261  0.285765 -1.313394  0.730238  0.163243  \n",
       "554  0.346756  3.659963 -1.149073 -0.021575 -1.995002  2.066189 -0.112915  \n",
       "555 -0.039512 -0.157332 -1.873362 -0.838223  0.056133  0.714882 -0.410316  \n",
       "556 -1.290287  0.726177  0.558816 -1.013846 -1.395439 -0.367699 -0.693556  \n",
       "557 -1.363862  0.658733  1.658661  1.567814 -0.278359  1.482670  0.595184  \n",
       "\n",
       "[558 rows x 49386 columns]"
      ]
     },
     "execution_count": 6,
     "metadata": {},
     "output_type": "execute_result"
    }
   ],
   "source": [
    "# Scaling Training Data\n",
    "standard_scaler = StandardScaler()\n",
    "standard_scaler.fit(X_train)\n",
    "X_train_scaled_standard = pd.DataFrame(standard_scaler.transform(X_train))\n",
    "X_train_scaled_standard"
   ]
  },
  {
   "cell_type": "code",
   "execution_count": 72,
   "id": "9843dc55",
   "metadata": {},
   "outputs": [
    {
     "data": {
      "text/html": [
       "<div>\n",
       "<style scoped>\n",
       "    .dataframe tbody tr th:only-of-type {\n",
       "        vertical-align: middle;\n",
       "    }\n",
       "\n",
       "    .dataframe tbody tr th {\n",
       "        vertical-align: top;\n",
       "    }\n",
       "\n",
       "    .dataframe thead th {\n",
       "        text-align: right;\n",
       "    }\n",
       "</style>\n",
       "<table border=\"1\" class=\"dataframe\">\n",
       "  <thead>\n",
       "    <tr style=\"text-align: right;\">\n",
       "      <th></th>\n",
       "      <th>0</th>\n",
       "      <th>1</th>\n",
       "      <th>2</th>\n",
       "      <th>3</th>\n",
       "      <th>4</th>\n",
       "      <th>5</th>\n",
       "      <th>6</th>\n",
       "      <th>7</th>\n",
       "      <th>8</th>\n",
       "      <th>9</th>\n",
       "      <th>...</th>\n",
       "      <th>49376</th>\n",
       "      <th>49377</th>\n",
       "      <th>49378</th>\n",
       "      <th>49379</th>\n",
       "      <th>49380</th>\n",
       "      <th>49381</th>\n",
       "      <th>49382</th>\n",
       "      <th>49383</th>\n",
       "      <th>49384</th>\n",
       "      <th>49385</th>\n",
       "    </tr>\n",
       "  </thead>\n",
       "  <tbody>\n",
       "    <tr>\n",
       "      <th>0</th>\n",
       "      <td>0.019473</td>\n",
       "      <td>0.367634</td>\n",
       "      <td>0.015570</td>\n",
       "      <td>0.573245</td>\n",
       "      <td>1.078015</td>\n",
       "      <td>-0.945259</td>\n",
       "      <td>-0.650025</td>\n",
       "      <td>0.748881</td>\n",
       "      <td>-0.613153</td>\n",
       "      <td>0.084311</td>\n",
       "      <td>...</td>\n",
       "      <td>-0.667837</td>\n",
       "      <td>0.756022</td>\n",
       "      <td>0.420537</td>\n",
       "      <td>-0.235712</td>\n",
       "      <td>0.071976</td>\n",
       "      <td>-1.676641</td>\n",
       "      <td>0.786291</td>\n",
       "      <td>0.725119</td>\n",
       "      <td>-1.120131</td>\n",
       "      <td>-1.019281</td>\n",
       "    </tr>\n",
       "    <tr>\n",
       "      <th>1</th>\n",
       "      <td>-0.384438</td>\n",
       "      <td>1.160368</td>\n",
       "      <td>0.941986</td>\n",
       "      <td>0.687301</td>\n",
       "      <td>0.228975</td>\n",
       "      <td>0.372618</td>\n",
       "      <td>-0.233851</td>\n",
       "      <td>0.664053</td>\n",
       "      <td>1.583480</td>\n",
       "      <td>1.194159</td>\n",
       "      <td>...</td>\n",
       "      <td>2.541917</td>\n",
       "      <td>1.115468</td>\n",
       "      <td>-0.583239</td>\n",
       "      <td>1.897962</td>\n",
       "      <td>1.319678</td>\n",
       "      <td>0.424689</td>\n",
       "      <td>1.181443</td>\n",
       "      <td>-0.707520</td>\n",
       "      <td>1.874242</td>\n",
       "      <td>-0.169563</td>\n",
       "    </tr>\n",
       "    <tr>\n",
       "      <th>2</th>\n",
       "      <td>0.912066</td>\n",
       "      <td>-0.710128</td>\n",
       "      <td>-2.232685</td>\n",
       "      <td>-0.107924</td>\n",
       "      <td>-0.314161</td>\n",
       "      <td>-0.455368</td>\n",
       "      <td>0.644739</td>\n",
       "      <td>-1.537417</td>\n",
       "      <td>-1.329144</td>\n",
       "      <td>0.040114</td>\n",
       "      <td>...</td>\n",
       "      <td>-1.472191</td>\n",
       "      <td>-1.810647</td>\n",
       "      <td>-1.579294</td>\n",
       "      <td>-0.885625</td>\n",
       "      <td>0.678966</td>\n",
       "      <td>-1.721350</td>\n",
       "      <td>-1.259718</td>\n",
       "      <td>-0.631786</td>\n",
       "      <td>-1.327434</td>\n",
       "      <td>-0.913067</td>\n",
       "    </tr>\n",
       "    <tr>\n",
       "      <th>3</th>\n",
       "      <td>1.056676</td>\n",
       "      <td>-0.999609</td>\n",
       "      <td>0.151143</td>\n",
       "      <td>-0.497616</td>\n",
       "      <td>0.228975</td>\n",
       "      <td>0.027624</td>\n",
       "      <td>0.238841</td>\n",
       "      <td>-0.737617</td>\n",
       "      <td>0.019421</td>\n",
       "      <td>-1.128663</td>\n",
       "      <td>...</td>\n",
       "      <td>0.879586</td>\n",
       "      <td>0.211237</td>\n",
       "      <td>-1.170062</td>\n",
       "      <td>0.211869</td>\n",
       "      <td>-1.378057</td>\n",
       "      <td>-0.773516</td>\n",
       "      <td>-0.451852</td>\n",
       "      <td>0.232847</td>\n",
       "      <td>-0.536612</td>\n",
       "      <td>-1.231711</td>\n",
       "    </tr>\n",
       "    <tr>\n",
       "      <th>4</th>\n",
       "      <td>-0.773390</td>\n",
       "      <td>-1.271276</td>\n",
       "      <td>0.704733</td>\n",
       "      <td>0.861554</td>\n",
       "      <td>-0.033229</td>\n",
       "      <td>0.082823</td>\n",
       "      <td>0.911913</td>\n",
       "      <td>-0.188259</td>\n",
       "      <td>1.145543</td>\n",
       "      <td>0.752184</td>\n",
       "      <td>...</td>\n",
       "      <td>-0.001373</td>\n",
       "      <td>0.621230</td>\n",
       "      <td>1.354821</td>\n",
       "      <td>-0.591325</td>\n",
       "      <td>-0.015701</td>\n",
       "      <td>-1.506746</td>\n",
       "      <td>0.101361</td>\n",
       "      <td>-0.126891</td>\n",
       "      <td>1.137166</td>\n",
       "      <td>-0.155401</td>\n",
       "    </tr>\n",
       "    <tr>\n",
       "      <th>...</th>\n",
       "      <td>...</td>\n",
       "      <td>...</td>\n",
       "      <td>...</td>\n",
       "      <td>...</td>\n",
       "      <td>...</td>\n",
       "      <td>...</td>\n",
       "      <td>...</td>\n",
       "      <td>...</td>\n",
       "      <td>...</td>\n",
       "      <td>...</td>\n",
       "      <td>...</td>\n",
       "      <td>...</td>\n",
       "      <td>...</td>\n",
       "      <td>...</td>\n",
       "      <td>...</td>\n",
       "      <td>...</td>\n",
       "      <td>...</td>\n",
       "      <td>...</td>\n",
       "      <td>...</td>\n",
       "      <td>...</td>\n",
       "      <td>...</td>\n",
       "    </tr>\n",
       "    <tr>\n",
       "      <th>181</th>\n",
       "      <td>2.891729</td>\n",
       "      <td>4.763299</td>\n",
       "      <td>2.320314</td>\n",
       "      <td>2.040136</td>\n",
       "      <td>1.895841</td>\n",
       "      <td>0.110423</td>\n",
       "      <td>-1.194648</td>\n",
       "      <td>2.526215</td>\n",
       "      <td>0.763218</td>\n",
       "      <td>-0.377307</td>\n",
       "      <td>...</td>\n",
       "      <td>3.729297</td>\n",
       "      <td>1.980385</td>\n",
       "      <td>3.022633</td>\n",
       "      <td>2.327149</td>\n",
       "      <td>0.078720</td>\n",
       "      <td>1.712312</td>\n",
       "      <td>0.408701</td>\n",
       "      <td>0.422182</td>\n",
       "      <td>2.127613</td>\n",
       "      <td>0.545617</td>\n",
       "    </tr>\n",
       "    <tr>\n",
       "      <th>182</th>\n",
       "      <td>0.253841</td>\n",
       "      <td>-1.689911</td>\n",
       "      <td>-0.803518</td>\n",
       "      <td>0.009300</td>\n",
       "      <td>0.054173</td>\n",
       "      <td>0.151822</td>\n",
       "      <td>0.403256</td>\n",
       "      <td>-0.624514</td>\n",
       "      <td>0.088935</td>\n",
       "      <td>-0.225071</td>\n",
       "      <td>...</td>\n",
       "      <td>-0.461004</td>\n",
       "      <td>0.520136</td>\n",
       "      <td>-0.467419</td>\n",
       "      <td>-1.314812</td>\n",
       "      <td>0.564312</td>\n",
       "      <td>0.075957</td>\n",
       "      <td>-0.732849</td>\n",
       "      <td>0.731430</td>\n",
       "      <td>-1.811141</td>\n",
       "      <td>0.014543</td>\n",
       "    </tr>\n",
       "    <tr>\n",
       "      <th>183</th>\n",
       "      <td>-0.783363</td>\n",
       "      <td>-0.888270</td>\n",
       "      <td>-0.136950</td>\n",
       "      <td>-0.225149</td>\n",
       "      <td>-0.257974</td>\n",
       "      <td>-1.069457</td>\n",
       "      <td>-1.667339</td>\n",
       "      <td>-0.975941</td>\n",
       "      <td>-1.210971</td>\n",
       "      <td>0.437891</td>\n",
       "      <td>...</td>\n",
       "      <td>-0.805727</td>\n",
       "      <td>-1.097371</td>\n",
       "      <td>0.652178</td>\n",
       "      <td>-0.094694</td>\n",
       "      <td>-1.067817</td>\n",
       "      <td>0.317387</td>\n",
       "      <td>-0.302572</td>\n",
       "      <td>0.182357</td>\n",
       "      <td>-1.074064</td>\n",
       "      <td>-0.686475</td>\n",
       "    </tr>\n",
       "    <tr>\n",
       "      <th>184</th>\n",
       "      <td>0.513142</td>\n",
       "      <td>-0.211329</td>\n",
       "      <td>1.461684</td>\n",
       "      <td>1.153031</td>\n",
       "      <td>-0.076929</td>\n",
       "      <td>-0.545066</td>\n",
       "      <td>1.261294</td>\n",
       "      <td>0.348981</td>\n",
       "      <td>-2.121601</td>\n",
       "      <td>0.555751</td>\n",
       "      <td>...</td>\n",
       "      <td>0.588487</td>\n",
       "      <td>2.929548</td>\n",
       "      <td>1.215836</td>\n",
       "      <td>0.168950</td>\n",
       "      <td>-0.575481</td>\n",
       "      <td>0.388922</td>\n",
       "      <td>0.768729</td>\n",
       "      <td>2.403895</td>\n",
       "      <td>-0.636425</td>\n",
       "      <td>0.694317</td>\n",
       "    </tr>\n",
       "    <tr>\n",
       "      <th>185</th>\n",
       "      <td>-0.743471</td>\n",
       "      <td>-0.322668</td>\n",
       "      <td>-1.306268</td>\n",
       "      <td>0.079001</td>\n",
       "      <td>-0.326647</td>\n",
       "      <td>-0.717563</td>\n",
       "      <td>0.742360</td>\n",
       "      <td>-0.628553</td>\n",
       "      <td>-0.314244</td>\n",
       "      <td>-0.013905</td>\n",
       "      <td>...</td>\n",
       "      <td>1.132383</td>\n",
       "      <td>0.660545</td>\n",
       "      <td>-0.961585</td>\n",
       "      <td>-0.634243</td>\n",
       "      <td>-0.481060</td>\n",
       "      <td>-0.165472</td>\n",
       "      <td>0.724823</td>\n",
       "      <td>-0.549740</td>\n",
       "      <td>-0.137363</td>\n",
       "      <td>-0.693556</td>\n",
       "    </tr>\n",
       "  </tbody>\n",
       "</table>\n",
       "<p>186 rows × 49386 columns</p>\n",
       "</div>"
      ],
      "text/plain": [
       "        0         1         2         3         4         5         6      \\\n",
       "0    0.019473  0.367634  0.015570  0.573245  1.078015 -0.945259 -0.650025   \n",
       "1   -0.384438  1.160368  0.941986  0.687301  0.228975  0.372618 -0.233851   \n",
       "2    0.912066 -0.710128 -2.232685 -0.107924 -0.314161 -0.455368  0.644739   \n",
       "3    1.056676 -0.999609  0.151143 -0.497616  0.228975  0.027624  0.238841   \n",
       "4   -0.773390 -1.271276  0.704733  0.861554 -0.033229  0.082823  0.911913   \n",
       "..        ...       ...       ...       ...       ...       ...       ...   \n",
       "181  2.891729  4.763299  2.320314  2.040136  1.895841  0.110423 -1.194648   \n",
       "182  0.253841 -1.689911 -0.803518  0.009300  0.054173  0.151822  0.403256   \n",
       "183 -0.783363 -0.888270 -0.136950 -0.225149 -0.257974 -1.069457 -1.667339   \n",
       "184  0.513142 -0.211329  1.461684  1.153031 -0.076929 -0.545066  1.261294   \n",
       "185 -0.743471 -0.322668 -1.306268  0.079001 -0.326647 -0.717563  0.742360   \n",
       "\n",
       "        7         8         9      ...     49376     49377     49378  \\\n",
       "0    0.748881 -0.613153  0.084311  ... -0.667837  0.756022  0.420537   \n",
       "1    0.664053  1.583480  1.194159  ...  2.541917  1.115468 -0.583239   \n",
       "2   -1.537417 -1.329144  0.040114  ... -1.472191 -1.810647 -1.579294   \n",
       "3   -0.737617  0.019421 -1.128663  ...  0.879586  0.211237 -1.170062   \n",
       "4   -0.188259  1.145543  0.752184  ... -0.001373  0.621230  1.354821   \n",
       "..        ...       ...       ...  ...       ...       ...       ...   \n",
       "181  2.526215  0.763218 -0.377307  ...  3.729297  1.980385  3.022633   \n",
       "182 -0.624514  0.088935 -0.225071  ... -0.461004  0.520136 -0.467419   \n",
       "183 -0.975941 -1.210971  0.437891  ... -0.805727 -1.097371  0.652178   \n",
       "184  0.348981 -2.121601  0.555751  ...  0.588487  2.929548  1.215836   \n",
       "185 -0.628553 -0.314244 -0.013905  ...  1.132383  0.660545 -0.961585   \n",
       "\n",
       "        49379     49380     49381     49382     49383     49384     49385  \n",
       "0   -0.235712  0.071976 -1.676641  0.786291  0.725119 -1.120131 -1.019281  \n",
       "1    1.897962  1.319678  0.424689  1.181443 -0.707520  1.874242 -0.169563  \n",
       "2   -0.885625  0.678966 -1.721350 -1.259718 -0.631786 -1.327434 -0.913067  \n",
       "3    0.211869 -1.378057 -0.773516 -0.451852  0.232847 -0.536612 -1.231711  \n",
       "4   -0.591325 -0.015701 -1.506746  0.101361 -0.126891  1.137166 -0.155401  \n",
       "..        ...       ...       ...       ...       ...       ...       ...  \n",
       "181  2.327149  0.078720  1.712312  0.408701  0.422182  2.127613  0.545617  \n",
       "182 -1.314812  0.564312  0.075957 -0.732849  0.731430 -1.811141  0.014543  \n",
       "183 -0.094694 -1.067817  0.317387 -0.302572  0.182357 -1.074064 -0.686475  \n",
       "184  0.168950 -0.575481  0.388922  0.768729  2.403895 -0.636425  0.694317  \n",
       "185 -0.634243 -0.481060 -0.165472  0.724823 -0.549740 -0.137363 -0.693556  \n",
       "\n",
       "[186 rows x 49386 columns]"
      ]
     },
     "execution_count": 72,
     "metadata": {},
     "output_type": "execute_result"
    }
   ],
   "source": [
    "# Scaling Testing Data\n",
    "X_test_scaled_standard = pd.DataFrame(standard_scaler.transform(X_test))\n",
    "X_test_scaled_standard"
   ]
  },
  {
   "cell_type": "markdown",
   "id": "621c34d9",
   "metadata": {},
   "source": [
    "## PCA"
   ]
  },
  {
   "cell_type": "code",
   "execution_count": 7,
   "id": "48e89d39",
   "metadata": {},
   "outputs": [],
   "source": [
    "# Creating PCA to Determine Number of Components For PCA\n",
    "pca_explore = PCA()\n",
    "pca_explore.fit(X_train_scaled_standard)\n",
    "cumsum = np.cumsum(pca_explore.explained_variance_ratio_)"
   ]
  },
  {
   "cell_type": "code",
   "execution_count": 8,
   "id": "aba9b2c9",
   "metadata": {},
   "outputs": [
    {
     "data": {
      "text/plain": [
       "556"
      ]
     },
     "execution_count": 8,
     "metadata": {},
     "output_type": "execute_result"
    }
   ],
   "source": [
    "# Calculating Number Of Components that Explain 99.9% of Training Data's Variance\n",
    "d = np.argmax(cumsum >= 0.999) + 1\n",
    "d"
   ]
  },
  {
   "cell_type": "code",
   "execution_count": 9,
   "id": "4f66e4e4",
   "metadata": {},
   "outputs": [
    {
     "data": {
      "image/png": "[encoded data removed]",
      "text/plain": [
       "<Figure size 432x288 with 1 Axes>"
      ]
     },
     "metadata": {
      "needs_background": "light"
     },
     "output_type": "display_data"
    }
   ],
   "source": [
    "# Plotting PCA Dimensions to Explained Variance of Training Data\n",
    "plt.figure(figsize=(6,4))\n",
    "plt.plot(cumsum, linewidth=3)\n",
    "plt.axis([0, 1000, 0, 1])\n",
    "plt.xlabel(\"Dimensions\")\n",
    "plt.ylabel(\"Explained Variance\")\n",
    "plt.plot([d, d], [0, 0.999], \"k:\")\n",
    "plt.plot([0, d], [0.999, 0.999], \"k:\")\n",
    "plt.plot(d, 0.999, \"ko\")\n",
    "plt.grid(True)\n",
    "plt.show()"
   ]
  },
  {
   "cell_type": "code",
   "execution_count": 10,
   "id": "dc547e67",
   "metadata": {},
   "outputs": [
    {
     "data": {
      "text/plain": [
       "PCA(n_components=556)"
      ]
     },
     "execution_count": 10,
     "metadata": {},
     "output_type": "execute_result"
    }
   ],
   "source": [
    "# Fitting PCA on Scaled Training Data With 556 Components\n",
    "pca = PCA(n_components = 556)\n",
    "pca.fit(X_train_scaled_standard)"
   ]
  },
  {
   "cell_type": "code",
   "execution_count": 11,
   "id": "c9e911ea",
   "metadata": {},
   "outputs": [],
   "source": [
    "# Reducing Scaled Training Data Using PCA\n",
    "X_train_reduced_PCA = pca.transform(X_train_scaled_standard)"
   ]
  },
  {
   "cell_type": "code",
   "execution_count": 12,
   "id": "15051b7e",
   "metadata": {},
   "outputs": [
    {
     "data": {
      "text/plain": [
       "0      1.477114e-15\n",
       "1     -6.876220e-16\n",
       "2     -1.252682e-15\n",
       "3     -4.329472e-16\n",
       "4     -6.048527e-16\n",
       "           ...     \n",
       "551   -1.766807e-16\n",
       "552   -1.405437e-16\n",
       "553    4.257845e-17\n",
       "554    4.218052e-17\n",
       "555   -1.354950e-16\n",
       "Length: 556, dtype: float64"
      ]
     },
     "execution_count": 12,
     "metadata": {},
     "output_type": "execute_result"
    }
   ],
   "source": [
    "# Means of Scaled Data\n",
    "pd.DataFrame(X_train_reduced_PCA).mean(axis=0)"
   ]
  },
  {
   "cell_type": "code",
   "execution_count": 13,
   "id": "5a98851f",
   "metadata": {},
   "outputs": [
    {
     "data": {
      "text/plain": [
       "0      87.041952\n",
       "1      50.784564\n",
       "2      44.977511\n",
       "3      41.107785\n",
       "4      33.072866\n",
       "         ...    \n",
       "551     5.285713\n",
       "552     5.241031\n",
       "553     5.195313\n",
       "554     5.175973\n",
       "555     5.111665\n",
       "Length: 556, dtype: float64"
      ]
     },
     "execution_count": 13,
     "metadata": {},
     "output_type": "execute_result"
    }
   ],
   "source": [
    "# Standard Deviations of Scaled Data\n",
    "pd.DataFrame(X_train_reduced_PCA).std(axis=0)"
   ]
  },
  {
   "cell_type": "markdown",
   "id": "d7793257",
   "metadata": {},
   "source": [
    "## Autoencoder"
   ]
  },
  {
   "cell_type": "code",
   "execution_count": 58,
   "id": "6fe0b078",
   "metadata": {},
   "outputs": [],
   "source": [
    "# This is the dimension of the original space\n",
    "input_dim = 49386\n",
    "\n",
    "# This is the dimension of the latent space (encoding space). The Same Number of Dimensions as PCA is Used Here\n",
    "latent_dim = 556\n",
    "\n",
    "# Creating the Layers for the Encoder\n",
    "encoder = Sequential([\n",
    "    Dense(2048, activation='sigmoid', input_shape=(input_dim,)),\n",
    "    Dense(latent_dim, activation='sigmoid')\n",
    "])\n",
    "\n",
    "# Creating the Layers for the Decoder\n",
    "decoder = Sequential([\n",
    "    Dense(2048, activation='sigmoid', input_shape=(latent_dim,)),\n",
    "    Dense(input_dim, activation=None)\n",
    "])\n",
    "\n",
    "# Sigmoid was used for the activation functions because the relu was zeroing out the encoded data."
   ]
  },
  {
   "cell_type": "code",
   "execution_count": 59,
   "id": "1d03a10f",
   "metadata": {},
   "outputs": [],
   "source": [
    "# Creating Autoencoder Model\n",
    "autoencoder = Model(inputs=encoder.input, outputs=decoder(encoder.output))\n",
    "autoencoder.compile(loss='mse', optimizer='adam')\n",
    "\n",
    "# Fitting Autoencoder and Capturing Training History\n",
    "model_history = autoencoder.fit(X_train_scaled_standard, X_train_scaled_standard, epochs=200, batch_size=32, verbose=0)\n",
    "\n",
    "# Using the Autoencoder to Reduce the Training Data\n",
    "X_train_reduced_encoder = encoder.predict(X_train_scaled_standard.to_numpy())\n",
    "\n",
    "# Saving the Reduced Data to a CSV, training is costly enough to warrant saving data\n",
    "pd.DataFrame(X_train_reduced_encoder).to_csv(\"Data/X_train_reduced_encoder.csv\")"
   ]
  },
  {
   "cell_type": "code",
   "execution_count": 73,
   "id": "c0d1fa9b",
   "metadata": {},
   "outputs": [],
   "source": [
    "# Using the Autoencoder to Reduce the Testing Data. I am reducing and saving the encoded testing data because the autoencoder\n",
    "# takes a really long time to train.\n",
    "X_test_reduced_encoder = encoder.predict(X_test_scaled_standard.to_numpy())\n",
    "\n",
    "# Saving the Reduced Data to a CSV, training is costly enough to warrant saving data\n",
    "pd.DataFrame(X_test_reduced_encoder).to_csv(\"Data/X_test_reduced_encoder.csv\")"
   ]
  },
  {
   "cell_type": "code",
   "execution_count": 60,
   "id": "e9ac58e2",
   "metadata": {},
   "outputs": [
    {
     "data": {
      "image/png": "[encoded data removed]",
      "text/plain": [
       "<Figure size 432x288 with 1 Axes>"
      ]
     },
     "metadata": {
      "needs_background": "light"
     },
     "output_type": "display_data"
    }
   ],
   "source": [
    "# Plotting AutoEncoder's Learning by Epoch\n",
    "plt.plot(model_history.history[\"loss\"])\n",
    "plt.title(\"Loss vs. Epoch\")\n",
    "plt.ylabel(\"Loss\")\n",
    "plt.xlabel(\"Epoch\")\n",
    "plt.grid(True)"
   ]
  },
  {
   "cell_type": "markdown",
   "id": "932cecdc",
   "metadata": {},
   "source": [
    "## Locally Linear Embedding"
   ]
  },
  {
   "cell_type": "code",
   "execution_count": 132,
   "id": "cbdaae3f",
   "metadata": {},
   "outputs": [
    {
     "data": {
      "text/plain": [
       "LocallyLinearEmbedding(n_components=556, n_neighbors=100)"
      ]
     },
     "execution_count": 132,
     "metadata": {},
     "output_type": "execute_result"
    }
   ],
   "source": [
    "# Fitting lle model on the scaled training dataset\n",
    "lle = LocallyLinearEmbedding(n_components=556, n_neighbors=100)\n",
    "lle.fit(X_train_scaled_standard)"
   ]
  },
  {
   "cell_type": "code",
   "execution_count": 133,
   "id": "e84b7214",
   "metadata": {},
   "outputs": [],
   "source": [
    "# Fitting lle model on the scaled dataset\n",
    "X_train_reduced_lle = lle.transform(X_train_scaled_standard)\n",
    "X_test_reduced_lle = lle.transform(X_test_scaled_standard)"
   ]
  },
  {
   "cell_type": "code",
   "execution_count": 134,
   "id": "62902e94",
   "metadata": {},
   "outputs": [
    {
     "data": {
      "text/html": [
       "<div>\n",
       "<style scoped>\n",
       "    .dataframe tbody tr th:only-of-type {\n",
       "        vertical-align: middle;\n",
       "    }\n",
       "\n",
       "    .dataframe tbody tr th {\n",
       "        vertical-align: top;\n",
       "    }\n",
       "\n",
       "    .dataframe thead th {\n",
       "        text-align: right;\n",
       "    }\n",
       "</style>\n",
       "<table border=\"1\" class=\"dataframe\">\n",
       "  <thead>\n",
       "    <tr style=\"text-align: right;\">\n",
       "      <th></th>\n",
       "      <th>0</th>\n",
       "      <th>1</th>\n",
       "      <th>2</th>\n",
       "      <th>3</th>\n",
       "      <th>4</th>\n",
       "      <th>5</th>\n",
       "      <th>6</th>\n",
       "      <th>7</th>\n",
       "      <th>8</th>\n",
       "      <th>9</th>\n",
       "      <th>...</th>\n",
       "      <th>546</th>\n",
       "      <th>547</th>\n",
       "      <th>548</th>\n",
       "      <th>549</th>\n",
       "      <th>550</th>\n",
       "      <th>551</th>\n",
       "      <th>552</th>\n",
       "      <th>553</th>\n",
       "      <th>554</th>\n",
       "      <th>555</th>\n",
       "    </tr>\n",
       "  </thead>\n",
       "  <tbody>\n",
       "    <tr>\n",
       "      <th>0</th>\n",
       "      <td>-0.032993</td>\n",
       "      <td>0.075504</td>\n",
       "      <td>-0.024893</td>\n",
       "      <td>0.025266</td>\n",
       "      <td>-0.044524</td>\n",
       "      <td>0.011766</td>\n",
       "      <td>0.091599</td>\n",
       "      <td>-0.031601</td>\n",
       "      <td>0.032080</td>\n",
       "      <td>0.038107</td>\n",
       "      <td>...</td>\n",
       "      <td>0.009786</td>\n",
       "      <td>-0.014187</td>\n",
       "      <td>0.019824</td>\n",
       "      <td>-0.032698</td>\n",
       "      <td>0.008149</td>\n",
       "      <td>-0.005573</td>\n",
       "      <td>-0.021932</td>\n",
       "      <td>0.017084</td>\n",
       "      <td>0.076592</td>\n",
       "      <td>0.057687</td>\n",
       "    </tr>\n",
       "    <tr>\n",
       "      <th>1</th>\n",
       "      <td>0.103324</td>\n",
       "      <td>-0.004648</td>\n",
       "      <td>-0.109559</td>\n",
       "      <td>-0.067381</td>\n",
       "      <td>0.059739</td>\n",
       "      <td>-0.066872</td>\n",
       "      <td>0.007526</td>\n",
       "      <td>0.086816</td>\n",
       "      <td>0.016830</td>\n",
       "      <td>-0.021021</td>\n",
       "      <td>...</td>\n",
       "      <td>-0.002444</td>\n",
       "      <td>-0.003357</td>\n",
       "      <td>0.006994</td>\n",
       "      <td>0.006576</td>\n",
       "      <td>0.012284</td>\n",
       "      <td>0.019071</td>\n",
       "      <td>0.024642</td>\n",
       "      <td>0.003561</td>\n",
       "      <td>-0.020979</td>\n",
       "      <td>0.026369</td>\n",
       "    </tr>\n",
       "    <tr>\n",
       "      <th>2</th>\n",
       "      <td>0.015930</td>\n",
       "      <td>-0.034330</td>\n",
       "      <td>-0.009101</td>\n",
       "      <td>0.071288</td>\n",
       "      <td>-0.018815</td>\n",
       "      <td>-0.040200</td>\n",
       "      <td>-0.025476</td>\n",
       "      <td>0.000920</td>\n",
       "      <td>0.002616</td>\n",
       "      <td>0.005220</td>\n",
       "      <td>...</td>\n",
       "      <td>-0.001057</td>\n",
       "      <td>0.000338</td>\n",
       "      <td>-0.002173</td>\n",
       "      <td>-0.000051</td>\n",
       "      <td>-0.009244</td>\n",
       "      <td>0.003062</td>\n",
       "      <td>0.013734</td>\n",
       "      <td>0.007945</td>\n",
       "      <td>0.003001</td>\n",
       "      <td>-0.015771</td>\n",
       "    </tr>\n",
       "    <tr>\n",
       "      <th>3</th>\n",
       "      <td>-0.057535</td>\n",
       "      <td>0.051177</td>\n",
       "      <td>-0.005495</td>\n",
       "      <td>-0.017868</td>\n",
       "      <td>-0.001598</td>\n",
       "      <td>-0.052554</td>\n",
       "      <td>0.026168</td>\n",
       "      <td>-0.012927</td>\n",
       "      <td>-0.008378</td>\n",
       "      <td>-0.029535</td>\n",
       "      <td>...</td>\n",
       "      <td>0.001392</td>\n",
       "      <td>0.014537</td>\n",
       "      <td>0.021392</td>\n",
       "      <td>0.011182</td>\n",
       "      <td>0.011386</td>\n",
       "      <td>0.009245</td>\n",
       "      <td>-0.012726</td>\n",
       "      <td>0.019664</td>\n",
       "      <td>0.028015</td>\n",
       "      <td>0.005733</td>\n",
       "    </tr>\n",
       "    <tr>\n",
       "      <th>4</th>\n",
       "      <td>-0.077987</td>\n",
       "      <td>0.004879</td>\n",
       "      <td>0.007687</td>\n",
       "      <td>-0.036779</td>\n",
       "      <td>0.115077</td>\n",
       "      <td>-0.016105</td>\n",
       "      <td>-0.005840</td>\n",
       "      <td>0.000899</td>\n",
       "      <td>-0.028812</td>\n",
       "      <td>0.028207</td>\n",
       "      <td>...</td>\n",
       "      <td>-0.044711</td>\n",
       "      <td>0.033574</td>\n",
       "      <td>0.053171</td>\n",
       "      <td>0.026756</td>\n",
       "      <td>0.002055</td>\n",
       "      <td>0.006615</td>\n",
       "      <td>0.022149</td>\n",
       "      <td>0.002981</td>\n",
       "      <td>0.000999</td>\n",
       "      <td>0.006795</td>\n",
       "    </tr>\n",
       "    <tr>\n",
       "      <th>...</th>\n",
       "      <td>...</td>\n",
       "      <td>...</td>\n",
       "      <td>...</td>\n",
       "      <td>...</td>\n",
       "      <td>...</td>\n",
       "      <td>...</td>\n",
       "      <td>...</td>\n",
       "      <td>...</td>\n",
       "      <td>...</td>\n",
       "      <td>...</td>\n",
       "      <td>...</td>\n",
       "      <td>...</td>\n",
       "      <td>...</td>\n",
       "      <td>...</td>\n",
       "      <td>...</td>\n",
       "      <td>...</td>\n",
       "      <td>...</td>\n",
       "      <td>...</td>\n",
       "      <td>...</td>\n",
       "      <td>...</td>\n",
       "      <td>...</td>\n",
       "    </tr>\n",
       "    <tr>\n",
       "      <th>553</th>\n",
       "      <td>-0.065702</td>\n",
       "      <td>-0.076183</td>\n",
       "      <td>0.013948</td>\n",
       "      <td>-0.077058</td>\n",
       "      <td>-0.019146</td>\n",
       "      <td>-0.040787</td>\n",
       "      <td>-0.046789</td>\n",
       "      <td>0.046299</td>\n",
       "      <td>-0.003696</td>\n",
       "      <td>0.114066</td>\n",
       "      <td>...</td>\n",
       "      <td>-0.003577</td>\n",
       "      <td>-0.015887</td>\n",
       "      <td>0.026354</td>\n",
       "      <td>-0.015860</td>\n",
       "      <td>0.035535</td>\n",
       "      <td>-0.061822</td>\n",
       "      <td>-0.008046</td>\n",
       "      <td>0.019395</td>\n",
       "      <td>0.007570</td>\n",
       "      <td>0.002388</td>\n",
       "    </tr>\n",
       "    <tr>\n",
       "      <th>554</th>\n",
       "      <td>0.066350</td>\n",
       "      <td>-0.010723</td>\n",
       "      <td>-0.009690</td>\n",
       "      <td>-0.040616</td>\n",
       "      <td>0.023858</td>\n",
       "      <td>0.009388</td>\n",
       "      <td>-0.052059</td>\n",
       "      <td>0.020644</td>\n",
       "      <td>-0.014984</td>\n",
       "      <td>-0.053367</td>\n",
       "      <td>...</td>\n",
       "      <td>0.021917</td>\n",
       "      <td>0.008022</td>\n",
       "      <td>0.007402</td>\n",
       "      <td>0.028272</td>\n",
       "      <td>-0.003423</td>\n",
       "      <td>-0.002930</td>\n",
       "      <td>0.000538</td>\n",
       "      <td>0.011062</td>\n",
       "      <td>-0.009738</td>\n",
       "      <td>0.037813</td>\n",
       "    </tr>\n",
       "    <tr>\n",
       "      <th>555</th>\n",
       "      <td>-0.040105</td>\n",
       "      <td>0.025077</td>\n",
       "      <td>0.038192</td>\n",
       "      <td>-0.026515</td>\n",
       "      <td>0.016662</td>\n",
       "      <td>-0.050749</td>\n",
       "      <td>-0.020719</td>\n",
       "      <td>0.005706</td>\n",
       "      <td>-0.032748</td>\n",
       "      <td>0.015739</td>\n",
       "      <td>...</td>\n",
       "      <td>0.052961</td>\n",
       "      <td>0.010822</td>\n",
       "      <td>-0.014885</td>\n",
       "      <td>-0.034053</td>\n",
       "      <td>0.032808</td>\n",
       "      <td>0.039263</td>\n",
       "      <td>-0.038304</td>\n",
       "      <td>-0.050800</td>\n",
       "      <td>-0.030165</td>\n",
       "      <td>0.006493</td>\n",
       "    </tr>\n",
       "    <tr>\n",
       "      <th>556</th>\n",
       "      <td>0.015998</td>\n",
       "      <td>0.014467</td>\n",
       "      <td>0.034200</td>\n",
       "      <td>-0.002884</td>\n",
       "      <td>-0.013044</td>\n",
       "      <td>0.018160</td>\n",
       "      <td>-0.118218</td>\n",
       "      <td>-0.078286</td>\n",
       "      <td>-0.019106</td>\n",
       "      <td>0.023853</td>\n",
       "      <td>...</td>\n",
       "      <td>0.001691</td>\n",
       "      <td>0.022416</td>\n",
       "      <td>0.005272</td>\n",
       "      <td>0.010921</td>\n",
       "      <td>-0.015030</td>\n",
       "      <td>-0.005329</td>\n",
       "      <td>0.014879</td>\n",
       "      <td>0.009372</td>\n",
       "      <td>-0.001757</td>\n",
       "      <td>-0.001489</td>\n",
       "    </tr>\n",
       "    <tr>\n",
       "      <th>557</th>\n",
       "      <td>0.040118</td>\n",
       "      <td>0.034155</td>\n",
       "      <td>-0.013468</td>\n",
       "      <td>0.055312</td>\n",
       "      <td>0.049253</td>\n",
       "      <td>-0.007656</td>\n",
       "      <td>-0.030943</td>\n",
       "      <td>-0.021309</td>\n",
       "      <td>-0.012026</td>\n",
       "      <td>0.013159</td>\n",
       "      <td>...</td>\n",
       "      <td>0.004763</td>\n",
       "      <td>-0.025498</td>\n",
       "      <td>0.007938</td>\n",
       "      <td>0.023221</td>\n",
       "      <td>0.054018</td>\n",
       "      <td>-0.033740</td>\n",
       "      <td>0.042046</td>\n",
       "      <td>-0.007487</td>\n",
       "      <td>0.003053</td>\n",
       "      <td>0.006357</td>\n",
       "    </tr>\n",
       "  </tbody>\n",
       "</table>\n",
       "<p>558 rows × 556 columns</p>\n",
       "</div>"
      ],
      "text/plain": [
       "          0         1         2         3         4         5         6    \\\n",
       "0   -0.032993  0.075504 -0.024893  0.025266 -0.044524  0.011766  0.091599   \n",
       "1    0.103324 -0.004648 -0.109559 -0.067381  0.059739 -0.066872  0.007526   \n",
       "2    0.015930 -0.034330 -0.009101  0.071288 -0.018815 -0.040200 -0.025476   \n",
       "3   -0.057535  0.051177 -0.005495 -0.017868 -0.001598 -0.052554  0.026168   \n",
       "4   -0.077987  0.004879  0.007687 -0.036779  0.115077 -0.016105 -0.005840   \n",
       "..        ...       ...       ...       ...       ...       ...       ...   \n",
       "553 -0.065702 -0.076183  0.013948 -0.077058 -0.019146 -0.040787 -0.046789   \n",
       "554  0.066350 -0.010723 -0.009690 -0.040616  0.023858  0.009388 -0.052059   \n",
       "555 -0.040105  0.025077  0.038192 -0.026515  0.016662 -0.050749 -0.020719   \n",
       "556  0.015998  0.014467  0.034200 -0.002884 -0.013044  0.018160 -0.118218   \n",
       "557  0.040118  0.034155 -0.013468  0.055312  0.049253 -0.007656 -0.030943   \n",
       "\n",
       "          7         8         9    ...       546       547       548  \\\n",
       "0   -0.031601  0.032080  0.038107  ...  0.009786 -0.014187  0.019824   \n",
       "1    0.086816  0.016830 -0.021021  ... -0.002444 -0.003357  0.006994   \n",
       "2    0.000920  0.002616  0.005220  ... -0.001057  0.000338 -0.002173   \n",
       "3   -0.012927 -0.008378 -0.029535  ...  0.001392  0.014537  0.021392   \n",
       "4    0.000899 -0.028812  0.028207  ... -0.044711  0.033574  0.053171   \n",
       "..        ...       ...       ...  ...       ...       ...       ...   \n",
       "553  0.046299 -0.003696  0.114066  ... -0.003577 -0.015887  0.026354   \n",
       "554  0.020644 -0.014984 -0.053367  ...  0.021917  0.008022  0.007402   \n",
       "555  0.005706 -0.032748  0.015739  ...  0.052961  0.010822 -0.014885   \n",
       "556 -0.078286 -0.019106  0.023853  ...  0.001691  0.022416  0.005272   \n",
       "557 -0.021309 -0.012026  0.013159  ...  0.004763 -0.025498  0.007938   \n",
       "\n",
       "          549       550       551       552       553       554       555  \n",
       "0   -0.032698  0.008149 -0.005573 -0.021932  0.017084  0.076592  0.057687  \n",
       "1    0.006576  0.012284  0.019071  0.024642  0.003561 -0.020979  0.026369  \n",
       "2   -0.000051 -0.009244  0.003062  0.013734  0.007945  0.003001 -0.015771  \n",
       "3    0.011182  0.011386  0.009245 -0.012726  0.019664  0.028015  0.005733  \n",
       "4    0.026756  0.002055  0.006615  0.022149  0.002981  0.000999  0.006795  \n",
       "..        ...       ...       ...       ...       ...       ...       ...  \n",
       "553 -0.015860  0.035535 -0.061822 -0.008046  0.019395  0.007570  0.002388  \n",
       "554  0.028272 -0.003423 -0.002930  0.000538  0.011062 -0.009738  0.037813  \n",
       "555 -0.034053  0.032808  0.039263 -0.038304 -0.050800 -0.030165  0.006493  \n",
       "556  0.010921 -0.015030 -0.005329  0.014879  0.009372 -0.001757 -0.001489  \n",
       "557  0.023221  0.054018 -0.033740  0.042046 -0.007487  0.003053  0.006357  \n",
       "\n",
       "[558 rows x 556 columns]"
      ]
     },
     "execution_count": 134,
     "metadata": {},
     "output_type": "execute_result"
    }
   ],
   "source": [
    "pd.DataFrame(X_train_reduced_lle)"
   ]
  },
  {
   "cell_type": "markdown",
   "id": "dd330141",
   "metadata": {},
   "source": [
    "## Summary Feature Extraction\n",
    "The result from feature extraction is three datasets containing training data resulting from three different dimensionality reduction methods."
   ]
  },
  {
   "cell_type": "markdown",
   "id": "324fc64a",
   "metadata": {},
   "source": [
    "# Modelling\n",
    "\n",
    "## Multilayer Perceptron"
   ]
  },
  {
   "cell_type": "code",
   "execution_count": 63,
   "id": "110d222d",
   "metadata": {},
   "outputs": [],
   "source": [
    "# Function to compile model based on different hyperperameters.\n",
    "def build_model(n_hidden=1, n_neurons=30):\n",
    "    model = tf.keras.models.Sequential()\n",
    "    model.add(tf.keras.layers.InputLayer(input_shape=(556, ))) # Creating Input Layer\n",
    "    for layer in range(n_hidden):\n",
    "        model.add(tf.keras.layers.Dense(n_neurons, activation=\"relu\")) # Adding Hidden Layers with relu activation.\n",
    "    model.add(tf.keras.layers.Dense(3)) # Final Layer with 3 neurons for three different classes (CN, MCI, AD)\n",
    "    model.compile(optimizer='adam',\n",
    "              loss=tf.keras.losses.SparseCategoricalCrossentropy(from_logits=True),\n",
    "              metrics=['accuracy']) # Compiling Model with Cross Entropy as loss.\n",
    "    return model"
   ]
  },
  {
   "cell_type": "code",
   "execution_count": 64,
   "id": "43354ae8",
   "metadata": {},
   "outputs": [
    {
     "name": "stderr",
     "output_type": "stream",
     "text": [
      "C:\\Users\\liamf\\AppData\\Local\\Temp/ipykernel_4548/126143118.py:2: DeprecationWarning: KerasClassifier is deprecated, use Sci-Keras (https://github.com/adriangb/scikeras) instead. See https://www.adriangb.com/scikeras/stable/migration.html for help migrating.\n",
      "  keras_classifier_PCA = tf.keras.wrappers.scikit_learn.KerasClassifier(build_model)\n"
     ]
    }
   ],
   "source": [
    "# Wrapping keras Multilayer Perceptron in scikit learn wrapper.\n",
    "keras_classifier_PCA = tf.keras.wrappers.scikit_learn.KerasClassifier(build_model)"
   ]
  },
  {
   "cell_type": "code",
   "execution_count": 65,
   "id": "30d777be",
   "metadata": {},
   "outputs": [
    {
     "name": "stderr",
     "output_type": "stream",
     "text": [
      "C:\\Users\\liamf\\AppData\\Local\\Temp/ipykernel_4548/4129951741.py:2: DeprecationWarning: KerasClassifier is deprecated, use Sci-Keras (https://github.com/adriangb/scikeras) instead. See https://www.adriangb.com/scikeras/stable/migration.html for help migrating.\n",
      "  keras_classifier_autoencoder = tf.keras.wrappers.scikit_learn.KerasClassifier(build_model)\n"
     ]
    }
   ],
   "source": [
    "# Wrapping keras Multilayer Perceptron in scikit learn wrapper.\n",
    "keras_classifier_autoencoder = tf.keras.wrappers.scikit_learn.KerasClassifier(build_model)"
   ]
  },
  {
   "cell_type": "code",
   "execution_count": 66,
   "id": "d62f3c9f",
   "metadata": {},
   "outputs": [
    {
     "name": "stderr",
     "output_type": "stream",
     "text": [
      "C:\\Users\\liamf\\AppData\\Local\\Temp/ipykernel_4548/4005422230.py:2: DeprecationWarning: KerasClassifier is deprecated, use Sci-Keras (https://github.com/adriangb/scikeras) instead. See https://www.adriangb.com/scikeras/stable/migration.html for help migrating.\n",
      "  keras_classifier_lle = tf.keras.wrappers.scikit_learn.KerasClassifier(build_model)\n"
     ]
    }
   ],
   "source": [
    "# Wrapping keras Multilayer Perceptron in scikit learn wrapper.\n",
    "keras_classifier_lle = tf.keras.wrappers.scikit_learn.KerasClassifier(build_model)"
   ]
  },
  {
   "cell_type": "code",
   "execution_count": 97,
   "id": "074b5a38",
   "metadata": {},
   "outputs": [],
   "source": [
    "# Perameters for GridSearchCV\n",
    "param_distribs = {\n",
    "    \"n_hidden\": [1, 2, 3, 4],\n",
    "    \"n_neurons\": [64, 128, 256, 384, 512, 640, 786]\n",
    "}"
   ]
  },
  {
   "cell_type": "code",
   "execution_count": 68,
   "id": "2b149a57",
   "metadata": {},
   "outputs": [
    {
     "name": "stdout",
     "output_type": "stream",
     "text": [
      "6/6 [==============================] - 0s 1ms/step - loss: 4.8425 - accuracy: 0.4194\n",
      "6/6 [==============================] - 0s 1ms/step - loss: 5.7652 - accuracy: 0.4462\n",
      "6/6 [==============================] - 0s 1ms/step - loss: 6.4505 - accuracy: 0.4462\n",
      "6/6 [==============================] - 0s 2ms/step - loss: 5.6839 - accuracy: 0.5108\n",
      "6/6 [==============================] - 0s 2ms/step - loss: 4.9496 - accuracy: 0.4677\n",
      "6/6 [==============================] - 0s 2ms/step - loss: 5.6105 - accuracy: 0.4355\n",
      "6/6 [==============================] - 0s 2ms/step - loss: 5.0401 - accuracy: 0.5806\n",
      "6/6 [==============================] - 0s 2ms/step - loss: 4.4638 - accuracy: 0.4892\n",
      "6/6 [==============================] - 0s 1ms/step - loss: 5.1796 - accuracy: 0.5215\n",
      "6/6 [==============================] - 0s 2ms/step - loss: 5.8101 - accuracy: 0.5108\n",
      "6/6 [==============================] - 0s 2ms/step - loss: 4.1754 - accuracy: 0.4946\n",
      "6/6 [==============================] - 0s 2ms/step - loss: 5.6627 - accuracy: 0.4946\n",
      "6/6 [==============================] - 0s 2ms/step - loss: 6.0027 - accuracy: 0.4516\n",
      "6/6 [==============================] - 0s 3ms/step - loss: 5.0986 - accuracy: 0.4570\n",
      "6/6 [==============================] - 0s 2ms/step - loss: 5.1403 - accuracy: 0.4839\n",
      "6/6 [==============================] - 0s 3ms/step - loss: 4.8180 - accuracy: 0.5161\n",
      "6/6 [==============================] - 0s 3ms/step - loss: 4.2278 - accuracy: 0.4946\n",
      "6/6 [==============================] - 0s 2ms/step - loss: 6.1045 - accuracy: 0.5161\n",
      "6/6 [==============================] - 0s 3ms/step - loss: 4.2947 - accuracy: 0.4731\n",
      "6/6 [==============================] - 0s 3ms/step - loss: 4.4352 - accuracy: 0.5699\n",
      "6/6 [==============================] - 0s 3ms/step - loss: 5.8811 - accuracy: 0.4839\n",
      "6/6 [==============================] - 0s 2ms/step - loss: 3.2044 - accuracy: 0.4731\n",
      "6/6 [==============================] - 0s 2ms/step - loss: 2.3460 - accuracy: 0.5108\n",
      "6/6 [==============================] - 0s 1ms/step - loss: 2.9413 - accuracy: 0.4516\n",
      "6/6 [==============================] - 0s 2ms/step - loss: 3.7040 - accuracy: 0.4785\n",
      "6/6 [==============================] - 0s 1ms/step - loss: 2.8694 - accuracy: 0.5323\n",
      "6/6 [==============================] - 0s 2ms/step - loss: 3.0032 - accuracy: 0.4946\n",
      "6/6 [==============================] - 0s 2ms/step - loss: 3.5929 - accuracy: 0.5161\n",
      "6/6 [==============================] - 0s 2ms/step - loss: 2.4887 - accuracy: 0.6022\n",
      "6/6 [==============================] - 0s 2ms/step - loss: 3.4194 - accuracy: 0.5484\n",
      "6/6 [==============================] - 0s 2ms/step - loss: 4.0219 - accuracy: 0.5430\n",
      "6/6 [==============================] - 0s 2ms/step - loss: 2.5753 - accuracy: 0.5753\n",
      "6/6 [==============================] - 0s 2ms/step - loss: 4.4074 - accuracy: 0.5323\n",
      "6/6 [==============================] - 0s 4ms/step - loss: 4.6397 - accuracy: 0.5269\n",
      "6/6 [==============================] - 0s 4ms/step - loss: 2.8692 - accuracy: 0.5269\n",
      "6/6 [==============================] - 0s 4ms/step - loss: 4.0205 - accuracy: 0.5376\n",
      "6/6 [==============================] - 0s 4ms/step - loss: 4.2669 - accuracy: 0.5376\n",
      "6/6 [==============================] - 0s 5ms/step - loss: 2.7027 - accuracy: 0.6022\n",
      "6/6 [==============================] - 0s 4ms/step - loss: 4.2700 - accuracy: 0.5430\n",
      "6/6 [==============================] - 0s 4ms/step - loss: 4.3637 - accuracy: 0.5323\n",
      "6/6 [==============================] - 0s 4ms/step - loss: 3.5250 - accuracy: 0.5860\n",
      "6/6 [==============================] - 0s 4ms/step - loss: 3.9994 - accuracy: 0.5591\n",
      "6/6 [==============================] - 0s 1ms/step - loss: 2.5112 - accuracy: 0.4892\n",
      "6/6 [==============================] - 0s 2ms/step - loss: 1.9351 - accuracy: 0.5000\n",
      "6/6 [==============================] - 0s 1ms/step - loss: 2.4993 - accuracy: 0.5215\n",
      "6/6 [==============================] - 0s 2ms/step - loss: 2.4271 - accuracy: 0.5000\n",
      "6/6 [==============================] - 0s 2ms/step - loss: 1.9597 - accuracy: 0.4677\n",
      "6/6 [==============================] - 0s 2ms/step - loss: 2.5806 - accuracy: 0.5054\n",
      "6/6 [==============================] - 0s 2ms/step - loss: 2.4930 - accuracy: 0.5269\n",
      "6/6 [==============================] - 0s 2ms/step - loss: 1.9406 - accuracy: 0.6452\n",
      "6/6 [==============================] - 0s 2ms/step - loss: 2.2596 - accuracy: 0.5376\n",
      "6/6 [==============================] - 0s 2ms/step - loss: 2.5394 - accuracy: 0.5215\n",
      "6/6 [==============================] - 0s 2ms/step - loss: 2.3293 - accuracy: 0.6075\n",
      "6/6 [==============================] - 0s 2ms/step - loss: 1.9204 - accuracy: 0.5269\n",
      "6/6 [==============================] - 0s 4ms/step - loss: 3.0954 - accuracy: 0.5538\n",
      "6/6 [==============================] - 0s 4ms/step - loss: 1.8635 - accuracy: 0.5806\n",
      "6/6 [==============================] - 0s 5ms/step - loss: 2.7183 - accuracy: 0.5376\n",
      "6/6 [==============================] - 0s 5ms/step - loss: 2.4491 - accuracy: 0.5000\n",
      "6/6 [==============================] - 0s 5ms/step - loss: 1.9178 - accuracy: 0.5860\n",
      "6/6 [==============================] - 0s 5ms/step - loss: 3.3686 - accuracy: 0.5376\n",
      "6/6 [==============================] - 0s 6ms/step - loss: 2.6543 - accuracy: 0.5538\n",
      "6/6 [==============================] - 0s 6ms/step - loss: 2.5124 - accuracy: 0.5860\n",
      "6/6 [==============================] - 0s 5ms/step - loss: 2.4779 - accuracy: 0.5161\n",
      "6/6 [==============================] - 0s 1ms/step - loss: 2.3076 - accuracy: 0.4731\n",
      "6/6 [==============================] - 0s 1ms/step - loss: 1.7027 - accuracy: 0.5054\n",
      "6/6 [==============================] - 0s 2ms/step - loss: 3.2055 - accuracy: 0.4570\n",
      "6/6 [==============================] - 0s 2ms/step - loss: 2.7035 - accuracy: 0.4839\n",
      "6/6 [==============================] - 0s 2ms/step - loss: 1.9422 - accuracy: 0.4839\n",
      "6/6 [==============================] - 0s 2ms/step - loss: 2.5772 - accuracy: 0.5000\n",
      "6/6 [==============================] - 0s 2ms/step - loss: 2.4017 - accuracy: 0.5269\n",
      "6/6 [==============================] - 0s 3ms/step - loss: 2.3314 - accuracy: 0.5806\n",
      "6/6 [==============================] - 0s 3ms/step - loss: 3.3198 - accuracy: 0.4731\n",
      "6/6 [==============================] - 0s 3ms/step - loss: 3.1117 - accuracy: 0.5161\n",
      "6/6 [==============================] - 0s 3ms/step - loss: 1.9015 - accuracy: 0.5484\n",
      "6/6 [==============================] - 0s 3ms/step - loss: 3.6890 - accuracy: 0.5054\n",
      "6/6 [==============================] - 0s 6ms/step - loss: 2.5578 - accuracy: 0.5699\n",
      "6/6 [==============================] - 0s 6ms/step - loss: 2.6071 - accuracy: 0.5753\n",
      "6/6 [==============================] - 0s 5ms/step - loss: 4.1261 - accuracy: 0.5538\n",
      "6/6 [==============================] - 0s 7ms/step - loss: 3.7956 - accuracy: 0.5484\n",
      "6/6 [==============================] - 0s 6ms/step - loss: 2.7669 - accuracy: 0.5538\n",
      "6/6 [==============================] - 0s 6ms/step - loss: 2.8905 - accuracy: 0.5323\n",
      "6/6 [==============================] - 0s 7ms/step - loss: 3.1102 - accuracy: 0.5161\n",
      "6/6 [==============================] - 0s 7ms/step - loss: 2.1772 - accuracy: 0.5860\n",
      "6/6 [==============================] - 0s 7ms/step - loss: 3.6683 - accuracy: 0.5591\n",
      "{'n_hidden': 3, 'n_neurons': 256}\n",
      "0.5698924660682678\n"
     ]
    }
   ],
   "source": [
    "# Fitting GridSearchCV on PCA data\n",
    "PCA_grid_cv = GridSearchCV(keras_classifier_PCA, param_distribs, cv=3, verbose=0)\n",
    "PCA_grid_cv.fit(X_train_reduced_PCA, y_train_num, epochs=50, verbose=0)\n",
    "print(PCA_grid_cv.best_params_)\n",
    "print(PCA_grid_cv.best_score_)"
   ]
  },
  {
   "cell_type": "code",
   "execution_count": 98,
   "id": "64772cad",
   "metadata": {},
   "outputs": [
    {
     "name": "stdout",
     "output_type": "stream",
     "text": [
      "6/6 [==============================] - 0s 2ms/step - loss: 1.4334 - accuracy: 0.4839\n",
      "6/6 [==============================] - 0s 1ms/step - loss: 1.3224 - accuracy: 0.5000\n",
      "6/6 [==============================] - 0s 2ms/step - loss: 1.4163 - accuracy: 0.5108\n",
      "6/6 [==============================] - 0s 1ms/step - loss: 1.7058 - accuracy: 0.4839\n",
      "6/6 [==============================] - 0s 1ms/step - loss: 1.5634 - accuracy: 0.5108\n",
      "6/6 [==============================] - 0s 2ms/step - loss: 1.6057 - accuracy: 0.5054\n",
      "6/6 [==============================] - 0s 2ms/step - loss: 1.7662 - accuracy: 0.4409\n",
      "6/6 [==============================] - 0s 2ms/step - loss: 1.7339 - accuracy: 0.4892\n",
      "6/6 [==============================] - 0s 2ms/step - loss: 1.7889 - accuracy: 0.5376\n",
      "6/6 [==============================] - 0s 2ms/step - loss: 1.8141 - accuracy: 0.4462\n",
      "6/6 [==============================] - 0s 2ms/step - loss: 1.6579 - accuracy: 0.4946\n",
      "6/6 [==============================] - 0s 1ms/step - loss: 1.8534 - accuracy: 0.5484\n",
      "6/6 [==============================] - 0s 3ms/step - loss: 1.8420 - accuracy: 0.4731\n",
      "6/6 [==============================] - 0s 2ms/step - loss: 1.7277 - accuracy: 0.4839\n",
      "6/6 [==============================] - 0s 3ms/step - loss: 1.8655 - accuracy: 0.5376\n",
      "6/6 [==============================] - 0s 3ms/step - loss: 1.9667 - accuracy: 0.4570\n",
      "6/6 [==============================] - 0s 3ms/step - loss: 1.6924 - accuracy: 0.4839\n",
      "6/6 [==============================] - 0s 3ms/step - loss: 1.8586 - accuracy: 0.5538\n",
      "6/6 [==============================] - 0s 3ms/step - loss: 1.9569 - accuracy: 0.5000\n",
      "6/6 [==============================] - 0s 3ms/step - loss: 1.8113 - accuracy: 0.4785\n",
      "6/6 [==============================] - 0s 3ms/step - loss: 1.9664 - accuracy: 0.5269\n",
      "6/6 [==============================] - 0s 1ms/step - loss: 2.2369 - accuracy: 0.4731\n",
      "6/6 [==============================] - 0s 1ms/step - loss: 2.2028 - accuracy: 0.5000\n",
      "6/6 [==============================] - 0s 1ms/step - loss: 2.3263 - accuracy: 0.5000\n",
      "6/6 [==============================] - 0s 1ms/step - loss: 2.6553 - accuracy: 0.4409\n",
      "6/6 [==============================] - 0s 1ms/step - loss: 2.2346 - accuracy: 0.5108\n",
      "6/6 [==============================] - 0s 1ms/step - loss: 2.4471 - accuracy: 0.4946\n",
      "6/6 [==============================] - 0s 2ms/step - loss: 2.7886 - accuracy: 0.4946\n",
      "6/6 [==============================] - 0s 2ms/step - loss: 2.3786 - accuracy: 0.5000\n",
      "6/6 [==============================] - 0s 2ms/step - loss: 2.7657 - accuracy: 0.4946\n",
      "6/6 [==============================] - 0s 2ms/step - loss: 2.9515 - accuracy: 0.4731\n",
      "6/6 [==============================] - 0s 2ms/step - loss: 2.5133 - accuracy: 0.5054\n",
      "6/6 [==============================] - 0s 2ms/step - loss: 2.8298 - accuracy: 0.5269\n",
      "6/6 [==============================] - 0s 4ms/step - loss: 2.9403 - accuracy: 0.4624\n",
      "6/6 [==============================] - 0s 3ms/step - loss: 2.7682 - accuracy: 0.5323\n",
      "6/6 [==============================] - 0s 4ms/step - loss: 3.2491 - accuracy: 0.5215\n",
      "6/6 [==============================] - 0s 4ms/step - loss: 3.3205 - accuracy: 0.4516\n",
      "6/6 [==============================] - 0s 4ms/step - loss: 2.9642 - accuracy: 0.5000\n",
      "6/6 [==============================] - 0s 4ms/step - loss: 3.0315 - accuracy: 0.5269\n",
      "6/6 [==============================] - 0s 4ms/step - loss: 2.9049 - accuracy: 0.4839\n",
      "6/6 [==============================] - 0s 4ms/step - loss: 3.0036 - accuracy: 0.5161\n",
      "6/6 [==============================] - 0s 4ms/step - loss: 3.3106 - accuracy: 0.5161\n",
      "6/6 [==============================] - 0s 1ms/step - loss: 2.7235 - accuracy: 0.4785\n",
      "6/6 [==============================] - 0s 1ms/step - loss: 2.5000 - accuracy: 0.4946\n",
      "6/6 [==============================] - 0s 1ms/step - loss: 3.0534 - accuracy: 0.5430\n",
      "6/6 [==============================] - 0s 2ms/step - loss: 2.9704 - accuracy: 0.5161\n",
      "6/6 [==============================] - 0s 2ms/step - loss: 2.9464 - accuracy: 0.5000\n",
      "6/6 [==============================] - 0s 2ms/step - loss: 3.2996 - accuracy: 0.5645\n",
      "6/6 [==============================] - 0s 2ms/step - loss: 3.1690 - accuracy: 0.4785\n",
      "6/6 [==============================] - 0s 2ms/step - loss: 3.3321 - accuracy: 0.5108\n",
      "6/6 [==============================] - 0s 2ms/step - loss: 3.8763 - accuracy: 0.4731\n",
      "6/6 [==============================] - 0s 2ms/step - loss: 3.7210 - accuracy: 0.4892\n",
      "6/6 [==============================] - 0s 3ms/step - loss: 3.1127 - accuracy: 0.5108\n",
      "6/6 [==============================] - 0s 2ms/step - loss: 3.7795 - accuracy: 0.5054\n",
      "6/6 [==============================] - 0s 4ms/step - loss: 3.4839 - accuracy: 0.4677\n",
      "6/6 [==============================] - 0s 5ms/step - loss: 4.0394 - accuracy: 0.4785\n",
      "6/6 [==============================] - 0s 4ms/step - loss: 3.9683 - accuracy: 0.5161\n",
      "6/6 [==============================] - 0s 5ms/step - loss: 3.8411 - accuracy: 0.4839\n",
      "6/6 [==============================] - 0s 5ms/step - loss: 4.1804 - accuracy: 0.5323\n",
      "6/6 [==============================] - 0s 5ms/step - loss: 4.0995 - accuracy: 0.5269\n",
      "6/6 [==============================] - 0s 8ms/step - loss: 4.1291 - accuracy: 0.4785\n",
      "6/6 [==============================] - 0s 6ms/step - loss: 3.4931 - accuracy: 0.5054\n",
      "6/6 [==============================] - 0s 5ms/step - loss: 4.0769 - accuracy: 0.5054\n",
      "6/6 [==============================] - 0s 1ms/step - loss: 3.3502 - accuracy: 0.4731\n",
      "6/6 [==============================] - 0s 2ms/step - loss: 3.3585 - accuracy: 0.4677\n",
      "6/6 [==============================] - 0s 2ms/step - loss: 3.5686 - accuracy: 0.4892\n",
      "6/6 [==============================] - 0s 2ms/step - loss: 3.4859 - accuracy: 0.5161\n",
      "6/6 [==============================] - 0s 1ms/step - loss: 2.9959 - accuracy: 0.5699\n",
      "6/6 [==============================] - 0s 2ms/step - loss: 3.8861 - accuracy: 0.5161\n",
      "6/6 [==============================] - 0s 2ms/step - loss: 4.0701 - accuracy: 0.5161\n",
      "6/6 [==============================] - 0s 3ms/step - loss: 4.2868 - accuracy: 0.5215\n",
      "6/6 [==============================] - 0s 2ms/step - loss: 3.9666 - accuracy: 0.4946\n",
      "6/6 [==============================] - 0s 3ms/step - loss: 3.9868 - accuracy: 0.4731\n",
      "6/6 [==============================] - 0s 3ms/step - loss: 3.1999 - accuracy: 0.4516\n",
      "6/6 [==============================] - 0s 3ms/step - loss: 4.4729 - accuracy: 0.4946\n",
      "6/6 [==============================] - 0s 5ms/step - loss: 4.0088 - accuracy: 0.5054\n",
      "6/6 [==============================] - 0s 5ms/step - loss: 4.7440 - accuracy: 0.4946\n",
      "6/6 [==============================] - 0s 5ms/step - loss: 4.3176 - accuracy: 0.5376\n",
      "6/6 [==============================] - 0s 6ms/step - loss: 3.2831 - accuracy: 0.5215\n",
      "6/6 [==============================] - 0s 6ms/step - loss: 4.2744 - accuracy: 0.4946\n",
      "6/6 [==============================] - 0s 6ms/step - loss: 4.2948 - accuracy: 0.5376\n",
      "6/6 [==============================] - 0s 7ms/step - loss: 4.6639 - accuracy: 0.4785\n",
      "6/6 [==============================] - 0s 7ms/step - loss: 4.9716 - accuracy: 0.4785\n",
      "6/6 [==============================] - 0s 7ms/step - loss: 5.2712 - accuracy: 0.5054\n",
      "{'n_hidden': 4, 'n_neurons': 128}\n",
      "0.5340501666069031\n"
     ]
    }
   ],
   "source": [
    "# Fitting GridSearchCV on autoencoder data\n",
    "autoencoder_grid_cv = GridSearchCV(keras_classifier_autoencoder, param_distribs, cv=3, verbose=0)\n",
    "autoencoder_grid_cv.fit(X_train_reduced_encoder, y_train_num, epochs=50, verbose = 0)\n",
    "print(autoencoder_grid_cv.best_params_)\n",
    "print(autoencoder_grid_cv.best_score_)"
   ]
  },
  {
   "cell_type": "code",
   "execution_count": 99,
   "id": "3916abac",
   "metadata": {},
   "outputs": [
    {
     "name": "stdout",
     "output_type": "stream",
     "text": [
      "6/6 [==============================] - 0s 1ms/step - loss: 1.0039 - accuracy: 0.5645\n",
      "6/6 [==============================] - 0s 2ms/step - loss: 0.8115 - accuracy: 0.6237\n",
      "6/6 [==============================] - 0s 1ms/step - loss: 0.9737 - accuracy: 0.5699\n",
      "6/6 [==============================] - 0s 1ms/step - loss: 1.0363 - accuracy: 0.5645\n",
      "6/6 [==============================] - 0s 2ms/step - loss: 0.8540 - accuracy: 0.6237\n",
      "6/6 [==============================] - 0s 2ms/step - loss: 1.0023 - accuracy: 0.5914\n",
      "6/6 [==============================] - 0s 1ms/step - loss: 1.0783 - accuracy: 0.5645\n",
      "6/6 [==============================] - 0s 2ms/step - loss: 0.8749 - accuracy: 0.6237\n",
      "6/6 [==============================] - 0s 3ms/step - loss: 1.0546 - accuracy: 0.5860\n",
      "6/6 [==============================] - 0s 2ms/step - loss: 1.1299 - accuracy: 0.5645\n",
      "6/6 [==============================] - 0s 2ms/step - loss: 0.8906 - accuracy: 0.6237\n",
      "6/6 [==============================] - 0s 2ms/step - loss: 1.0843 - accuracy: 0.5914\n",
      "6/6 [==============================] - 0s 2ms/step - loss: 1.1594 - accuracy: 0.5645\n",
      "6/6 [==============================] - 0s 3ms/step - loss: 0.9170 - accuracy: 0.6237\n",
      "6/6 [==============================] - 0s 2ms/step - loss: 1.0861 - accuracy: 0.5914\n",
      "6/6 [==============================] - 0s 3ms/step - loss: 1.1896 - accuracy: 0.5645\n",
      "6/6 [==============================] - 0s 3ms/step - loss: 0.9032 - accuracy: 0.6237\n",
      "6/6 [==============================] - 0s 3ms/step - loss: 1.1207 - accuracy: 0.5914\n",
      "6/6 [==============================] - 0s 3ms/step - loss: 1.1598 - accuracy: 0.5645\n",
      "6/6 [==============================] - 0s 3ms/step - loss: 0.9390 - accuracy: 0.6237\n",
      "6/6 [==============================] - 0s 3ms/step - loss: 1.1297 - accuracy: 0.5968\n",
      "6/6 [==============================] - 0s 1ms/step - loss: 1.3794 - accuracy: 0.5484\n",
      "6/6 [==============================] - 0s 1ms/step - loss: 0.9817 - accuracy: 0.5968\n",
      "6/6 [==============================] - 0s 1ms/step - loss: 1.2462 - accuracy: 0.5591\n",
      "6/6 [==============================] - 0s 2ms/step - loss: 1.4045 - accuracy: 0.5591\n",
      "6/6 [==============================] - 0s 2ms/step - loss: 1.1054 - accuracy: 0.6129\n",
      "6/6 [==============================] - 0s 1ms/step - loss: 1.3144 - accuracy: 0.5860\n",
      "6/6 [==============================] - 0s 2ms/step - loss: 1.4822 - accuracy: 0.5591\n",
      "6/6 [==============================] - 0s 2ms/step - loss: 1.2072 - accuracy: 0.6022\n",
      "6/6 [==============================] - 0s 2ms/step - loss: 1.3552 - accuracy: 0.5591\n",
      "6/6 [==============================] - 0s 2ms/step - loss: 1.5255 - accuracy: 0.5591\n",
      "6/6 [==============================] - 0s 2ms/step - loss: 1.1802 - accuracy: 0.6344\n",
      "6/6 [==============================] - 0s 2ms/step - loss: 1.4295 - accuracy: 0.5753\n",
      "6/6 [==============================] - 0s 4ms/step - loss: 1.5326 - accuracy: 0.5753\n",
      "6/6 [==============================] - 0s 3ms/step - loss: 1.1277 - accuracy: 0.6237\n",
      "6/6 [==============================] - 0s 3ms/step - loss: 1.4021 - accuracy: 0.5860\n",
      "6/6 [==============================] - 0s 4ms/step - loss: 1.5648 - accuracy: 0.5645\n",
      "6/6 [==============================] - 0s 4ms/step - loss: 1.2091 - accuracy: 0.6237\n",
      "6/6 [==============================] - 0s 4ms/step - loss: 1.5052 - accuracy: 0.5860\n",
      "6/6 [==============================] - 0s 4ms/step - loss: 1.6401 - accuracy: 0.5645\n",
      "6/6 [==============================] - 0s 4ms/step - loss: 1.2202 - accuracy: 0.6290\n",
      "6/6 [==============================] - 0s 5ms/step - loss: 1.4877 - accuracy: 0.5914\n",
      "6/6 [==============================] - 0s 2ms/step - loss: 1.7952 - accuracy: 0.5753\n",
      "6/6 [==============================] - 0s 2ms/step - loss: 1.3589 - accuracy: 0.5645\n",
      "6/6 [==============================] - 0s 2ms/step - loss: 1.6249 - accuracy: 0.5323\n",
      "6/6 [==============================] - 0s 2ms/step - loss: 1.6809 - accuracy: 0.5538\n",
      "6/6 [==============================] - 0s 2ms/step - loss: 1.4614 - accuracy: 0.5699\n",
      "6/6 [==============================] - 0s 2ms/step - loss: 1.7032 - accuracy: 0.5591\n",
      "6/6 [==============================] - 0s 3ms/step - loss: 1.7195 - accuracy: 0.5806\n",
      "6/6 [==============================] - 0s 2ms/step - loss: 1.5483 - accuracy: 0.5269\n",
      "6/6 [==============================] - 0s 2ms/step - loss: 1.7828 - accuracy: 0.5699\n",
      "6/6 [==============================] - 0s 2ms/step - loss: 1.6732 - accuracy: 0.5430\n",
      "6/6 [==============================] - 0s 2ms/step - loss: 1.5166 - accuracy: 0.5376\n",
      "6/6 [==============================] - 0s 3ms/step - loss: 1.6706 - accuracy: 0.5323\n",
      "6/6 [==============================] - 0s 4ms/step - loss: 1.6824 - accuracy: 0.5376\n",
      "6/6 [==============================] - 0s 4ms/step - loss: 1.2247 - accuracy: 0.5376\n",
      "6/6 [==============================] - 0s 4ms/step - loss: 1.6802 - accuracy: 0.5538\n",
      "6/6 [==============================] - 0s 7ms/step - loss: 1.5396 - accuracy: 0.4301\n",
      "6/6 [==============================] - 0s 5ms/step - loss: 1.3803 - accuracy: 0.6237\n",
      "6/6 [==============================] - 0s 5ms/step - loss: 1.5429 - accuracy: 0.5323\n",
      "6/6 [==============================] - 0s 6ms/step - loss: 1.7555 - accuracy: 0.5323\n",
      "6/6 [==============================] - 0s 5ms/step - loss: 1.2282 - accuracy: 0.5484\n",
      "6/6 [==============================] - 0s 6ms/step - loss: 1.5108 - accuracy: 0.4677\n",
      "6/6 [==============================] - 0s 1ms/step - loss: 1.8422 - accuracy: 0.5968\n",
      "6/6 [==============================] - 0s 2ms/step - loss: 1.5938 - accuracy: 0.5430\n",
      "6/6 [==============================] - 0s 1ms/step - loss: 2.0596 - accuracy: 0.5376\n",
      "6/6 [==============================] - 0s 1ms/step - loss: 1.9257 - accuracy: 0.5054\n",
      "6/6 [==============================] - 0s 2ms/step - loss: 1.8575 - accuracy: 0.5645\n",
      "6/6 [==============================] - 0s 2ms/step - loss: 1.8695 - accuracy: 0.5269\n",
      "6/6 [==============================] - 0s 2ms/step - loss: 2.2003 - accuracy: 0.4946\n",
      "6/6 [==============================] - 0s 3ms/step - loss: 1.9280 - accuracy: 0.4570\n",
      "6/6 [==============================] - 0s 2ms/step - loss: 1.8816 - accuracy: 0.5108\n",
      "6/6 [==============================] - 0s 4ms/step - loss: 2.4202 - accuracy: 0.5538\n",
      "6/6 [==============================] - 0s 3ms/step - loss: 1.9771 - accuracy: 0.4624\n",
      "6/6 [==============================] - 0s 3ms/step - loss: 2.6968 - accuracy: 0.5161\n",
      "6/6 [==============================] - 0s 6ms/step - loss: 2.2493 - accuracy: 0.4731\n",
      "6/6 [==============================] - 0s 6ms/step - loss: 1.9326 - accuracy: 0.5108\n",
      "6/6 [==============================] - 0s 5ms/step - loss: 2.4066 - accuracy: 0.4032\n",
      "6/6 [==============================] - 0s 6ms/step - loss: 3.5538 - accuracy: 0.5269\n",
      "6/6 [==============================] - 0s 6ms/step - loss: 1.7979 - accuracy: 0.5376\n",
      "6/6 [==============================] - 0s 6ms/step - loss: 3.1844 - accuracy: 0.5538\n",
      "6/6 [==============================] - 0s 7ms/step - loss: 3.9425 - accuracy: 0.5376\n",
      "6/6 [==============================] - 0s 7ms/step - loss: 2.4403 - accuracy: 0.4516\n",
      "6/6 [==============================] - 0s 7ms/step - loss: 1.9254 - accuracy: 0.4839\n",
      "{'n_hidden': 1, 'n_neurons': 786}\n",
      "0.5949820876121521\n"
     ]
    }
   ],
   "source": [
    "# Fitting GridSearchCV on lle data\n",
    "lle_grid_cv = GridSearchCV(keras_classifier_lle, param_distribs, cv=3, verbose=0)\n",
    "lle_grid_cv.fit(X_train_reduced_lle, y_train_num, epochs=50, verbose=0)\n",
    "print(lle_grid_cv.best_params_)\n",
    "print(lle_grid_cv.best_score_)"
   ]
  },
  {
   "cell_type": "code",
   "execution_count": 107,
   "id": "7bb9854b",
   "metadata": {},
   "outputs": [
    {
     "name": "stderr",
     "output_type": "stream",
     "text": [
      "C:\\Users\\liamf\\AppData\\Local\\Temp/ipykernel_4548/2475719743.py:12: DeprecationWarning: KerasClassifier is deprecated, use Sci-Keras (https://github.com/adriangb/scikeras) instead. See https://www.adriangb.com/scikeras/stable/migration.html for help migrating.\n",
      "  best_mlp = tf.keras.wrappers.scikit_learn.KerasClassifier(build_best_model)\n"
     ]
    }
   ],
   "source": [
    "def build_best_model(n_hidden=1, n_neurons=786):\n",
    "    model = tf.keras.models.Sequential()\n",
    "    model.add(tf.keras.layers.InputLayer(input_shape=(556, ))) # Creating Input Layer\n",
    "    for layer in range(n_hidden):\n",
    "        model.add(tf.keras.layers.Dense(n_neurons, activation=\"relu\")) # Adding Hidden Layers with relu activation.\n",
    "    model.add(tf.keras.layers.Dense(3)) # Final Layer with 3 neurons for three different classes (CN, MCI, AD)\n",
    "    model.compile(optimizer='adam',\n",
    "              loss=tf.keras.losses.SparseCategoricalCrossentropy(from_logits=True),\n",
    "              metrics=['accuracy']) # Compiling Model with Cross Entropy as loss.\n",
    "    return model\n",
    "\n",
    "best_mlp = tf.keras.wrappers.scikit_learn.KerasClassifier(build_best_model)"
   ]
  },
  {
   "cell_type": "code",
   "execution_count": 108,
   "id": "872f4645",
   "metadata": {},
   "outputs": [
    {
     "data": {
      "text/plain": [
       "<keras.callbacks.History at 0x1a12abccca0>"
      ]
     },
     "execution_count": 108,
     "metadata": {},
     "output_type": "execute_result"
    }
   ],
   "source": [
    "best_mlp.fit(X_train_reduced_lle, y_train_num, epochs=100, verbose=0)"
   ]
  },
  {
   "cell_type": "markdown",
   "id": "0fff1c4f",
   "metadata": {},
   "source": [
    "## Random Forest"
   ]
  },
  {
   "cell_type": "code",
   "execution_count": 78,
   "id": "fa3ddeeb",
   "metadata": {},
   "outputs": [],
   "source": [
    "# Perameters for GridSearchCV\n",
    "param_distribs = {\n",
    "    \"max_leaf_nodes\": [5, 10, 25, 50, 75, 150, 200],\n",
    "    \"max_depth\": [5, 10, 25, 50, 75, 150, 200],\n",
    "    \"n_estimators\": [50, 100, 150, 200]\n",
    "}\n",
    "\n",
    "# Creating grid search object with f1_score as scoring function\n",
    "pca_grid_rf = GridSearchCV(RandomForestClassifier(), param_distribs, scoring='f1_weighted', cv=3, verbose=3, n_jobs=-1)\n",
    "autoencoder_grid_rf = GridSearchCV(RandomForestClassifier(), param_distribs, scoring='f1_weighted', cv=3, verbose=3, n_jobs=-1)\n",
    "lle_grid_rf = GridSearchCV(RandomForestClassifier(), param_distribs, scoring='f1_weighted', cv=3, verbose=3, n_jobs=-1)"
   ]
  },
  {
   "cell_type": "code",
   "execution_count": 80,
   "id": "656f62f3",
   "metadata": {},
   "outputs": [
    {
     "name": "stdout",
     "output_type": "stream",
     "text": [
      "Fitting 3 folds for each of 196 candidates, totalling 588 fits\n",
      "{'max_depth': 25, 'max_leaf_nodes': 75, 'n_estimators': 50}\n",
      "0.49449914182566873\n"
     ]
    }
   ],
   "source": [
    "# Fitting grid search for pca\n",
    "pca_grid_rf.fit(X_train_reduced_PCA, y_train)\n",
    "print(pca_grid_rf.best_params_)\n",
    "print(pca_grid_rf.best_score_)"
   ]
  },
  {
   "cell_type": "code",
   "execution_count": 82,
   "id": "737200a0",
   "metadata": {},
   "outputs": [
    {
     "name": "stdout",
     "output_type": "stream",
     "text": [
      "Fitting 3 folds for each of 196 candidates, totalling 588 fits\n",
      "{'max_depth': 150, 'max_leaf_nodes': 75, 'n_estimators': 200}\n",
      "0.5071805880099025\n"
     ]
    }
   ],
   "source": [
    "# Fitting grid search for the autoencoder\n",
    "autoencoder_grid_rf.fit(X_train_reduced_encoder, y_train)\n",
    "print(autoencoder_grid_rf.best_params_)\n",
    "print(autoencoder_grid_rf.best_score_)"
   ]
  },
  {
   "cell_type": "code",
   "execution_count": 83,
   "id": "45f1d239",
   "metadata": {},
   "outputs": [
    {
     "name": "stdout",
     "output_type": "stream",
     "text": [
      "Fitting 3 folds for each of 196 candidates, totalling 588 fits\n",
      "{'max_depth': 150, 'max_leaf_nodes': 200, 'n_estimators': 50}\n",
      "0.48042920947428946\n"
     ]
    }
   ],
   "source": [
    "# Fitting grid search for lle\n",
    "lle_grid_rf.fit(X_train_reduced_lle, y_train)\n",
    "print(lle_grid_rf.best_params_)\n",
    "print(lle_grid_rf.best_score_)"
   ]
  },
  {
   "cell_type": "code",
   "execution_count": 88,
   "id": "0664b392",
   "metadata": {},
   "outputs": [
    {
     "data": {
      "text/plain": [
       "RandomForestClassifier(max_depth=150, max_leaf_nodes=75, n_estimators=200)"
      ]
     },
     "execution_count": 88,
     "metadata": {},
     "output_type": "execute_result"
    }
   ],
   "source": [
    "best_rf = RandomForestClassifier(max_depth=150, max_leaf_nodes=75, n_estimators=200)\n",
    "best_rf.fit(X_train_reduced_encoder, y_train)"
   ]
  },
  {
   "cell_type": "markdown",
   "id": "13080746",
   "metadata": {},
   "source": [
    "## Extra Trees"
   ]
  },
  {
   "cell_type": "code",
   "execution_count": 84,
   "id": "1d05da29",
   "metadata": {},
   "outputs": [],
   "source": [
    "# Perameters for GridSearchCV\n",
    "param_distribs = {\n",
    "    \"max_leaf_nodes\": [5, 10, 25, 50, 75, 150, 200],\n",
    "    \"max_depth\": [5, 10, 25, 50, 75, 150, 200],\n",
    "    \"n_estimators\": [50, 100, 150, 200]\n",
    "}\n",
    "\n",
    "# Creating grid search object with f1_score as scoring function\n",
    "pca_grid_extree = GridSearchCV(ExtraTreesClassifier(), param_distribs, scoring='f1_weighted', cv=3, verbose=3, n_jobs=-1)\n",
    "autoencoder_grid_extree = GridSearchCV(ExtraTreesClassifier(), param_distribs, scoring='f1_weighted', cv=3, verbose=3, n_jobs=-1)\n",
    "lle_grid_extree = GridSearchCV(ExtraTreesClassifier(), param_distribs, scoring='f1_weighted', cv=3, verbose=3, n_jobs=-1)"
   ]
  },
  {
   "cell_type": "code",
   "execution_count": 85,
   "id": "ffa4b787",
   "metadata": {},
   "outputs": [
    {
     "name": "stdout",
     "output_type": "stream",
     "text": [
      "Fitting 3 folds for each of 196 candidates, totalling 588 fits\n",
      "{'max_depth': 200, 'max_leaf_nodes': 150, 'n_estimators': 50}\n",
      "0.4842771599543691\n"
     ]
    }
   ],
   "source": [
    "# Fitting grid search for pca\n",
    "pca_grid_extree.fit(X_train_reduced_PCA, y_train)\n",
    "print(pca_grid_extree.best_params_)\n",
    "print(pca_grid_extree.best_score_)"
   ]
  },
  {
   "cell_type": "code",
   "execution_count": 86,
   "id": "26ed3d8a",
   "metadata": {},
   "outputs": [
    {
     "name": "stdout",
     "output_type": "stream",
     "text": [
      "Fitting 3 folds for each of 196 candidates, totalling 588 fits\n",
      "{'max_depth': 75, 'max_leaf_nodes': 200, 'n_estimators': 50}\n",
      "0.5202546097424787\n"
     ]
    }
   ],
   "source": [
    "# Fitting grid search for the autoencoder\n",
    "autoencoder_grid_extree.fit(X_train_reduced_encoder, y_train)\n",
    "print(autoencoder_grid_extree.best_params_)\n",
    "print(autoencoder_grid_extree.best_score_)"
   ]
  },
  {
   "cell_type": "code",
   "execution_count": 87,
   "id": "d63c2470",
   "metadata": {},
   "outputs": [
    {
     "name": "stdout",
     "output_type": "stream",
     "text": [
      "Fitting 3 folds for each of 196 candidates, totalling 588 fits\n",
      "{'max_depth': 25, 'max_leaf_nodes': 150, 'n_estimators': 50}\n",
      "0.47156471836859654\n"
     ]
    }
   ],
   "source": [
    "# Fitting grid search for lle\n",
    "lle_grid_extree.fit(X_train_reduced_lle, y_train)\n",
    "print(lle_grid_extree.best_params_)\n",
    "print(lle_grid_extree.best_score_)"
   ]
  },
  {
   "cell_type": "code",
   "execution_count": 89,
   "id": "083b272b",
   "metadata": {},
   "outputs": [
    {
     "data": {
      "text/plain": [
       "ExtraTreesClassifier(max_depth=75, max_leaf_nodes=200, n_estimators=50)"
      ]
     },
     "execution_count": 89,
     "metadata": {},
     "output_type": "execute_result"
    }
   ],
   "source": [
    "best_extree = ExtraTreesClassifier(max_depth=75, max_leaf_nodes=200, n_estimators=50)\n",
    "best_extree.fit(X_train_reduced_encoder, y_train)"
   ]
  },
  {
   "cell_type": "markdown",
   "id": "da7440c4",
   "metadata": {},
   "source": [
    "## SVC"
   ]
  },
  {
   "cell_type": "code",
   "execution_count": 90,
   "id": "2583a6bc",
   "metadata": {},
   "outputs": [],
   "source": [
    "param_distribs = {\n",
    "    \"C\": [0.01, 0.1, 1, 5, 10],\n",
    "    \"kernel\": [\"poly\",\"rbf\"],\n",
    "    \"degree\":[3, 8, 13, 20]\n",
    "}\n",
    "\n",
    "# Creating grid search objects with f1_score as scoring function\n",
    "pca_grid_SVC = GridSearchCV(SVC(), param_grid=param_distribs, scoring='f1_weighted', cv=3, verbose=3, n_jobs=-1)\n",
    "autoencoder_grid_SVC = GridSearchCV(SVC(), param_grid=param_distribs, scoring='f1_weighted', cv=3, verbose=3, n_jobs=-1)\n",
    "lle_grid_SVC = GridSearchCV(SVC(), param_grid=param_distribs, scoring='f1_weighted', cv=3, verbose=3, n_jobs=-1)"
   ]
  },
  {
   "cell_type": "code",
   "execution_count": 91,
   "id": "ad571606",
   "metadata": {},
   "outputs": [
    {
     "name": "stdout",
     "output_type": "stream",
     "text": [
      "Fitting 3 folds for each of 40 candidates, totalling 120 fits\n",
      "{'C': 5, 'degree': 3, 'kernel': 'rbf'}\n",
      "0.48436873539633013\n"
     ]
    }
   ],
   "source": [
    "# Fitting grid search for pca\n",
    "pca_grid_SVC.fit(X_train_reduced_PCA, y_train)\n",
    "print(pca_grid_SVC.best_params_)\n",
    "print(pca_grid_SVC.best_score_)"
   ]
  },
  {
   "cell_type": "code",
   "execution_count": 92,
   "id": "41c98e54",
   "metadata": {},
   "outputs": [
    {
     "name": "stdout",
     "output_type": "stream",
     "text": [
      "Fitting 3 folds for each of 40 candidates, totalling 120 fits\n",
      "{'C': 0.01, 'degree': 13, 'kernel': 'poly'}\n",
      "0.4920541541645919\n"
     ]
    }
   ],
   "source": [
    "# Fitting grid search for the autoencoder\n",
    "autoencoder_grid_SVC.fit(X_train_reduced_encoder, y_train)\n",
    "print(autoencoder_grid_SVC.best_params_)\n",
    "print(autoencoder_grid_SVC.best_score_)"
   ]
  },
  {
   "cell_type": "code",
   "execution_count": 93,
   "id": "97d18379",
   "metadata": {},
   "outputs": [
    {
     "name": "stdout",
     "output_type": "stream",
     "text": [
      "Fitting 3 folds for each of 40 candidates, totalling 120 fits\n",
      "{'C': 0.01, 'degree': 3, 'kernel': 'poly'}\n",
      "0.44172618366166755\n"
     ]
    }
   ],
   "source": [
    "# Fitting grid search for lle\n",
    "lle_grid_SVC.fit(X_train_reduced_lle, y_train)\n",
    "print(lle_grid_SVC.best_params_)\n",
    "print(lle_grid_SVC.best_score_)"
   ]
  },
  {
   "cell_type": "code",
   "execution_count": 94,
   "id": "46dde92f",
   "metadata": {},
   "outputs": [
    {
     "data": {
      "text/plain": [
       "SVC(C=0.1, degree=13, kernel='poly')"
      ]
     },
     "execution_count": 94,
     "metadata": {},
     "output_type": "execute_result"
    }
   ],
   "source": [
    "best_svc = SVC(C=0.1, degree=13, kernel='poly')\n",
    "best_svc.fit(X_train_reduced_encoder, y_train)"
   ]
  },
  {
   "cell_type": "markdown",
   "id": "899a93b0",
   "metadata": {},
   "source": [
    "## Voting Classifier"
   ]
  },
  {
   "cell_type": "code",
   "execution_count": 144,
   "id": "881db43f",
   "metadata": {},
   "outputs": [
    {
     "name": "stderr",
     "output_type": "stream",
     "text": [
      "C:\\Users\\liamf\\AppData\\Local\\Temp/ipykernel_4548/2207224872.py:2: DeprecationWarning: KerasClassifier is deprecated, use Sci-Keras (https://github.com/adriangb/scikeras) instead. See https://www.adriangb.com/scikeras/stable/migration.html for help migrating.\n",
      "  keras_mlp = tf.keras.wrappers.scikit_learn.KerasClassifier(build_fn=build_best_model)\n"
     ]
    }
   ],
   "source": [
    "# Creating keras mlp object for voting classifier.\n",
    "keras_mlp = tf.keras.wrappers.scikit_learn.KerasClassifier(build_fn=build_best_model)\n",
    "\n",
    "# Creating ensemble model with soft voting with MLPClassifier(), RandomForestClassifier(), and ExtraTreesClassifier()\n",
    "voting_clf_soft = VotingClassifier(\n",
    "    estimators=[('rf', RandomForestClassifier(max_depth=150, max_leaf_nodes=75, n_estimators=200)),\n",
    "                ('extree', ExtraTreesClassifier(max_depth=75, max_leaf_nodes=200, n_estimators=50)),\n",
    "                ('svc', SVC(C=0.1, degree=13, kernel='poly', probability=True))],\n",
    "    voting='soft')"
   ]
  },
  {
   "cell_type": "code",
   "execution_count": 147,
   "id": "c553f266",
   "metadata": {},
   "outputs": [
    {
     "data": {
      "text/plain": [
       "VotingClassifier(estimators=[('rf',\n",
       "                              RandomForestClassifier(max_depth=150,\n",
       "                                                     max_leaf_nodes=75,\n",
       "                                                     n_estimators=200)),\n",
       "                             ('extree',\n",
       "                              ExtraTreesClassifier(max_depth=75,\n",
       "                                                   max_leaf_nodes=200,\n",
       "                                                   n_estimators=50)),\n",
       "                             ('svc',\n",
       "                              SVC(C=0.1, degree=13, kernel='poly',\n",
       "                                  probability=True))],\n",
       "                 voting='soft')"
      ]
     },
     "execution_count": 147,
     "metadata": {},
     "output_type": "execute_result"
    }
   ],
   "source": [
    "# fitting ensemble model\n",
    "voting_clf_soft.fit(X_train_reduced_encoder, y_train)"
   ]
  },
  {
   "cell_type": "markdown",
   "id": "f027f2bd",
   "metadata": {},
   "source": [
    "## Comparing Models on Testing Data"
   ]
  },
  {
   "cell_type": "code",
   "execution_count": 152,
   "id": "e6c51808",
   "metadata": {},
   "outputs": [
    {
     "name": "stdout",
     "output_type": "stream",
     "text": [
      "f1 Score: 0.2699947589098533\n"
     ]
    },
    {
     "data": {
      "text/plain": [
       "array([0.        , 0.10769231, 0.8       ])"
      ]
     },
     "execution_count": 152,
     "metadata": {},
     "output_type": "execute_result"
    }
   ],
   "source": [
    "y_pred = best_mlp.predict(X_test_reduced_lle)\n",
    "\n",
    "print(\"f1 Score:\", f1_score(y_test_num, y_pred, average='macro'))\n",
    "\n",
    "matrix = confusion_matrix(y_test_num, y_pred)\n",
    "matrix.diagonal()/matrix.sum(axis=1)"
   ]
  },
  {
   "cell_type": "code",
   "execution_count": 153,
   "id": "38de4306",
   "metadata": {},
   "outputs": [
    {
     "name": "stdout",
     "output_type": "stream",
     "text": [
      "f1 Score: 0.2982456140350877\n"
     ]
    },
    {
     "data": {
      "text/plain": [
       "array([0.        , 0.15384615, 0.82727273])"
      ]
     },
     "execution_count": 153,
     "metadata": {},
     "output_type": "execute_result"
    }
   ],
   "source": [
    "y_pred = best_rf.predict(X_test_reduced_encoder)\n",
    "\n",
    "print(\"f1 Score:\", f1_score(y_test, y_pred, average='macro'))\n",
    "\n",
    "matrix = confusion_matrix(y_test, y_pred)\n",
    "matrix.diagonal()/matrix.sum(axis=1)"
   ]
  },
  {
   "cell_type": "code",
   "execution_count": 162,
   "id": "2bf11b0a",
   "metadata": {},
   "outputs": [
    {
     "name": "stdout",
     "output_type": "stream",
     "text": [
      "f1 Score: 0.30867433619727197\n"
     ]
    },
    {
     "data": {
      "text/plain": [
       "array([0.        , 0.23076923, 0.74545455])"
      ]
     },
     "execution_count": 162,
     "metadata": {},
     "output_type": "execute_result"
    }
   ],
   "source": [
    "y_pred = best_extree.predict(X_test_reduced_encoder)\n",
    "\n",
    "print(\"f1 Score:\", f1_score(y_test, y_pred, average='macro'))\n",
    "\n",
    "matrix = confusion_matrix(y_test, y_pred)\n",
    "matrix.diagonal()/matrix.sum(axis=1)"
   ]
  },
  {
   "cell_type": "code",
   "execution_count": 155,
   "id": "b151a7ca",
   "metadata": {},
   "outputs": [
    {
     "name": "stdout",
     "output_type": "stream",
     "text": [
      "f1 Score: 0.2997444322745528\n"
     ]
    },
    {
     "data": {
      "text/plain": [
       "array([0.        , 0.23076923, 0.70909091])"
      ]
     },
     "execution_count": 155,
     "metadata": {},
     "output_type": "execute_result"
    }
   ],
   "source": [
    "y_pred = best_svc.predict(X_test_reduced_encoder)\n",
    "\n",
    "print(\"f1 Score:\", f1_score(y_test, y_pred, average='macro'))\n",
    "\n",
    "matrix = confusion_matrix(y_test, y_pred)\n",
    "matrix.diagonal()/matrix.sum(axis=1)"
   ]
  },
  {
   "cell_type": "code",
   "execution_count": 156,
   "id": "16576dfc",
   "metadata": {},
   "outputs": [
    {
     "name": "stdout",
     "output_type": "stream",
     "text": [
      "f1 Score: 0.26038622428514124\n"
     ]
    },
    {
     "data": {
      "text/plain": [
       "array([0.        , 0.06153846, 0.86363636])"
      ]
     },
     "execution_count": 156,
     "metadata": {},
     "output_type": "execute_result"
    }
   ],
   "source": [
    "y_pred = voting_clf_soft.predict(X_test_reduced_encoder)\n",
    "\n",
    "print(\"f1 Score:\", f1_score(y_test, y_pred, average='macro'))\n",
    "\n",
    "matrix = confusion_matrix(y_test, y_pred)\n",
    "matrix.diagonal()/matrix.sum(axis=1)"
   ]
  },
  {
   "cell_type": "markdown",
   "id": "db4145cc",
   "metadata": {},
   "source": [
    "# References\n",
    "1. https://www.tensorflow.org/tutorials/keras/classification\n",
    "2. https://github.com/ageron/handson-ml2/blob/master/10_neural_nets_with_keras.ipynb\n",
    "3. https://ekamperi.github.io/machine%20learning/2021/01/21/encoder-decoder-model.html\n",
    "4. https://pbpython.com/categorical-encoding.html"
   ]
  }
 ],
 "metadata": {
  "kernelspec": {
   "display_name": "Python 3 (ipykernel)",
   "language": "python",
   "name": "python3"
  },
  "language_info": {
   "codemirror_mode": {
    "name": "ipython",
    "version": 3
   },
   "file_extension": ".py",
   "mimetype": "text/x-python",
   "name": "python",
   "nbconvert_exporter": "python",
   "pygments_lexer": "ipython3",
   "version": "3.8.12"
  }
 },
 "nbformat": 4,
 "nbformat_minor": 5
}
